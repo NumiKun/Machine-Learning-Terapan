{
  "nbformat": 4,
  "nbformat_minor": 0,
  "metadata": {
    "colab": {
      "provenance": [],
      "gpuType": "V28"
    },
    "kernelspec": {
      "name": "python3",
      "display_name": "Python 3"
    },
    "language_info": {
      "name": "python"
    },
    "accelerator": "TPU"
  },
  "cells": [
    {
      "cell_type": "markdown",
      "source": [
        "## Import Libraries"
      ],
      "metadata": {
        "id": "Ifd_XRAABmJd"
      }
    },
    {
      "cell_type": "markdown",
      "source": [
        "### Impor library untuk manipulasi data, visualisasi, ekstraksi fitur teks, dan modeling rekomendasi."
      ],
      "metadata": {
        "id": "MWvFvwO7sdzx"
      }
    },
    {
      "cell_type": "code",
      "execution_count": null,
      "metadata": {
        "id": "JHYU7OoWAfAk",
        "colab": {
          "base_uri": "https://localhost:8080/"
        },
        "outputId": "1d32c2ad-32f8-46e1-cba4-7d77e1f1f47e"
      },
      "outputs": [
        {
          "output_type": "stream",
          "name": "stdout",
          "text": [
            "Requirement already satisfied: scikit-surprise in /usr/local/lib/python3.11/dist-packages (1.1.4)\n",
            "Requirement already satisfied: joblib>=1.2.0 in /usr/local/lib/python3.11/dist-packages (from scikit-surprise) (1.5.0)\n",
            "Requirement already satisfied: numpy>=1.19.5 in /usr/local/lib/python3.11/dist-packages (from scikit-surprise) (1.26.4)\n",
            "Requirement already satisfied: scipy>=1.6.0 in /usr/local/lib/python3.11/dist-packages (from scikit-surprise) (1.15.3)\n"
          ]
        }
      ],
      "source": [
        "import numpy as np\n",
        "import pandas as pd\n",
        "import matplotlib.pyplot as plt\n",
        "import seaborn as sns\n",
        "import kagglehub\n",
        "import os\n",
        "import shutil\n",
        "from sklearn.feature_extraction.text import TfidfVectorizer\n",
        "from sklearn.metrics.pairwise import cosine_similarity\n",
        "from sklearn.preprocessing import LabelEncoder\n",
        "!pip install scikit-surprise"
      ]
    },
    {
      "cell_type": "markdown",
      "source": [
        "### Menghapus versi numpy yang ada dan menginstal ulang versi 1.26.4 untuk memastikan kompatibilitas dengan library lain."
      ],
      "metadata": {
        "id": "GCYqT25gszrY"
      }
    },
    {
      "cell_type": "code",
      "source": [
        "!pip uninstall numpy -y\n",
        "!pip install numpy==1.26.4"
      ],
      "metadata": {
        "colab": {
          "base_uri": "https://localhost:8080/"
        },
        "id": "m6GKTk1HfXSW",
        "outputId": "1d6a935f-2ff2-4aa6-a20c-8762e98add01"
      },
      "execution_count": null,
      "outputs": [
        {
          "output_type": "stream",
          "name": "stdout",
          "text": [
            "Found existing installation: numpy 1.26.4\n",
            "Uninstalling numpy-1.26.4:\n",
            "  Successfully uninstalled numpy-1.26.4\n",
            "Collecting numpy==1.26.4\n",
            "  Using cached numpy-1.26.4-cp311-cp311-manylinux_2_17_x86_64.manylinux2014_x86_64.whl.metadata (61 kB)\n",
            "Using cached numpy-1.26.4-cp311-cp311-manylinux_2_17_x86_64.manylinux2014_x86_64.whl (18.3 MB)\n",
            "Installing collected packages: numpy\n",
            "\u001b[31mERROR: pip's dependency resolver does not currently take into account all the packages that are installed. This behaviour is the source of the following dependency conflicts.\n",
            "thinc 8.3.6 requires numpy<3.0.0,>=2.0.0, but you have numpy 1.26.4 which is incompatible.\u001b[0m\u001b[31m\n",
            "\u001b[0mSuccessfully installed numpy-1.26.4\n"
          ]
        }
      ]
    },
    {
      "cell_type": "markdown",
      "source": [
        "### Mengimpor modul dari library Surprise untuk membangun model collaborative filtering, termasuk SVD dan fungsi evaluasi."
      ],
      "metadata": {
        "id": "oJH3Z0cKs_wW"
      }
    },
    {
      "cell_type": "code",
      "source": [
        "from surprise import Dataset, Reader, SVD, accuracy\n",
        "from surprise.model_selection import train_test_split"
      ],
      "metadata": {
        "id": "unkZFVLkfWl9"
      },
      "execution_count": null,
      "outputs": []
    },
    {
      "cell_type": "markdown",
      "source": [
        "## Data Loading"
      ],
      "metadata": {
        "id": "NqPi4IIuC5nL"
      }
    },
    {
      "cell_type": "markdown",
      "source": [
        "### Mengunduh dataset buku dari Kaggle menggunakan `kagglehub`."
      ],
      "metadata": {
        "id": "EBzm5vzdtIhb"
      }
    },
    {
      "cell_type": "code",
      "source": [
        "source_path = kagglehub.dataset_download(\"arashnic/book-recommendation-dataset\")"
      ],
      "metadata": {
        "id": "r6c7AN1GWtqN"
      },
      "execution_count": null,
      "outputs": []
    },
    {
      "cell_type": "markdown",
      "source": [
        "### Memindahkan dataset yang sudah diunduh ke folder `/content` agar mudah diakses."
      ],
      "metadata": {
        "id": "TahJozhbtSOn"
      }
    },
    {
      "cell_type": "code",
      "metadata": {
        "colab": {
          "base_uri": "https://localhost:8080/"
        },
        "id": "8cc418f5",
        "outputId": "95851df0-9f6b-4510-c7d2-b344c703d4ba"
      },
      "source": [
        "destination_path = '/content/book-recommendation-dataset'\n",
        "\n",
        "if not os.path.exists(destination_path):\n",
        "    os.makedirs(destination_path)\n",
        "\n",
        "for item in os.listdir(source_path):\n",
        "    s = os.path.join(source_path, item)\n",
        "    d = os.path.join(destination_path, item)\n",
        "    if os.path.isdir(s):\n",
        "        shutil.copytree(s, d)\n",
        "    else:\n",
        "        shutil.copy2(s, d)\n",
        "\n",
        "print(f\"Dataset copied to: {destination_path}\")"
      ],
      "execution_count": null,
      "outputs": [
        {
          "output_type": "stream",
          "name": "stdout",
          "text": [
            "Dataset copied to: /content/book-recommendation-dataset\n"
          ]
        }
      ]
    },
    {
      "cell_type": "markdown",
      "source": [
        "## Data Understanding"
      ],
      "metadata": {
        "id": "Mo4wjtwLDZnG"
      }
    },
    {
      "cell_type": "markdown",
      "source": [
        "#### Memuat file CSV buku ke DataFrame dan menampilkan 5 baris pertama untuk melihat struktur data."
      ],
      "metadata": {
        "id": "o6hXuWKktgF-"
      }
    },
    {
      "cell_type": "code",
      "metadata": {
        "colab": {
          "base_uri": "https://localhost:8080/",
          "height": 434
        },
        "id": "e7e78e49",
        "outputId": "6c2da4d9-3a16-43da-8ab0-19bf7d5b38b3"
      },
      "source": [
        "books = pd.read_csv('/content/book-recommendation-dataset/Books.csv', low_memory=False)\n",
        "display(books.head())"
      ],
      "execution_count": null,
      "outputs": [
        {
          "output_type": "display_data",
          "data": {
            "text/plain": [
              "         ISBN                                         Book-Title  \\\n",
              "0  0195153448                                Classical Mythology   \n",
              "1  0002005018                                       Clara Callan   \n",
              "2  0060973129                               Decision in Normandy   \n",
              "3  0374157065  Flu: The Story of the Great Influenza Pandemic...   \n",
              "4  0393045218                             The Mummies of Urumchi   \n",
              "\n",
              "            Book-Author Year-Of-Publication                   Publisher  \\\n",
              "0    Mark P. O. Morford                2002     Oxford University Press   \n",
              "1  Richard Bruce Wright                2001       HarperFlamingo Canada   \n",
              "2          Carlo D'Este                1991             HarperPerennial   \n",
              "3      Gina Bari Kolata                1999        Farrar Straus Giroux   \n",
              "4       E. J. W. Barber                1999  W. W. Norton &amp; Company   \n",
              "\n",
              "                                         Image-URL-S  \\\n",
              "0  http://images.amazon.com/images/P/0195153448.0...   \n",
              "1  http://images.amazon.com/images/P/0002005018.0...   \n",
              "2  http://images.amazon.com/images/P/0060973129.0...   \n",
              "3  http://images.amazon.com/images/P/0374157065.0...   \n",
              "4  http://images.amazon.com/images/P/0393045218.0...   \n",
              "\n",
              "                                         Image-URL-M  \\\n",
              "0  http://images.amazon.com/images/P/0195153448.0...   \n",
              "1  http://images.amazon.com/images/P/0002005018.0...   \n",
              "2  http://images.amazon.com/images/P/0060973129.0...   \n",
              "3  http://images.amazon.com/images/P/0374157065.0...   \n",
              "4  http://images.amazon.com/images/P/0393045218.0...   \n",
              "\n",
              "                                         Image-URL-L  \n",
              "0  http://images.amazon.com/images/P/0195153448.0...  \n",
              "1  http://images.amazon.com/images/P/0002005018.0...  \n",
              "2  http://images.amazon.com/images/P/0060973129.0...  \n",
              "3  http://images.amazon.com/images/P/0374157065.0...  \n",
              "4  http://images.amazon.com/images/P/0393045218.0...  "
            ],
            "text/html": [
              "\n",
              "  <div id=\"df-54807faf-90d9-4ed4-b01b-f9f41627cd17\" class=\"colab-df-container\">\n",
              "    <div>\n",
              "<style scoped>\n",
              "    .dataframe tbody tr th:only-of-type {\n",
              "        vertical-align: middle;\n",
              "    }\n",
              "\n",
              "    .dataframe tbody tr th {\n",
              "        vertical-align: top;\n",
              "    }\n",
              "\n",
              "    .dataframe thead th {\n",
              "        text-align: right;\n",
              "    }\n",
              "</style>\n",
              "<table border=\"1\" class=\"dataframe\">\n",
              "  <thead>\n",
              "    <tr style=\"text-align: right;\">\n",
              "      <th></th>\n",
              "      <th>ISBN</th>\n",
              "      <th>Book-Title</th>\n",
              "      <th>Book-Author</th>\n",
              "      <th>Year-Of-Publication</th>\n",
              "      <th>Publisher</th>\n",
              "      <th>Image-URL-S</th>\n",
              "      <th>Image-URL-M</th>\n",
              "      <th>Image-URL-L</th>\n",
              "    </tr>\n",
              "  </thead>\n",
              "  <tbody>\n",
              "    <tr>\n",
              "      <th>0</th>\n",
              "      <td>0195153448</td>\n",
              "      <td>Classical Mythology</td>\n",
              "      <td>Mark P. O. Morford</td>\n",
              "      <td>2002</td>\n",
              "      <td>Oxford University Press</td>\n",
              "      <td>http://images.amazon.com/images/P/0195153448.0...</td>\n",
              "      <td>http://images.amazon.com/images/P/0195153448.0...</td>\n",
              "      <td>http://images.amazon.com/images/P/0195153448.0...</td>\n",
              "    </tr>\n",
              "    <tr>\n",
              "      <th>1</th>\n",
              "      <td>0002005018</td>\n",
              "      <td>Clara Callan</td>\n",
              "      <td>Richard Bruce Wright</td>\n",
              "      <td>2001</td>\n",
              "      <td>HarperFlamingo Canada</td>\n",
              "      <td>http://images.amazon.com/images/P/0002005018.0...</td>\n",
              "      <td>http://images.amazon.com/images/P/0002005018.0...</td>\n",
              "      <td>http://images.amazon.com/images/P/0002005018.0...</td>\n",
              "    </tr>\n",
              "    <tr>\n",
              "      <th>2</th>\n",
              "      <td>0060973129</td>\n",
              "      <td>Decision in Normandy</td>\n",
              "      <td>Carlo D'Este</td>\n",
              "      <td>1991</td>\n",
              "      <td>HarperPerennial</td>\n",
              "      <td>http://images.amazon.com/images/P/0060973129.0...</td>\n",
              "      <td>http://images.amazon.com/images/P/0060973129.0...</td>\n",
              "      <td>http://images.amazon.com/images/P/0060973129.0...</td>\n",
              "    </tr>\n",
              "    <tr>\n",
              "      <th>3</th>\n",
              "      <td>0374157065</td>\n",
              "      <td>Flu: The Story of the Great Influenza Pandemic...</td>\n",
              "      <td>Gina Bari Kolata</td>\n",
              "      <td>1999</td>\n",
              "      <td>Farrar Straus Giroux</td>\n",
              "      <td>http://images.amazon.com/images/P/0374157065.0...</td>\n",
              "      <td>http://images.amazon.com/images/P/0374157065.0...</td>\n",
              "      <td>http://images.amazon.com/images/P/0374157065.0...</td>\n",
              "    </tr>\n",
              "    <tr>\n",
              "      <th>4</th>\n",
              "      <td>0393045218</td>\n",
              "      <td>The Mummies of Urumchi</td>\n",
              "      <td>E. J. W. Barber</td>\n",
              "      <td>1999</td>\n",
              "      <td>W. W. Norton &amp;amp; Company</td>\n",
              "      <td>http://images.amazon.com/images/P/0393045218.0...</td>\n",
              "      <td>http://images.amazon.com/images/P/0393045218.0...</td>\n",
              "      <td>http://images.amazon.com/images/P/0393045218.0...</td>\n",
              "    </tr>\n",
              "  </tbody>\n",
              "</table>\n",
              "</div>\n",
              "    <div class=\"colab-df-buttons\">\n",
              "\n",
              "  <div class=\"colab-df-container\">\n",
              "    <button class=\"colab-df-convert\" onclick=\"convertToInteractive('df-54807faf-90d9-4ed4-b01b-f9f41627cd17')\"\n",
              "            title=\"Convert this dataframe to an interactive table.\"\n",
              "            style=\"display:none;\">\n",
              "\n",
              "  <svg xmlns=\"http://www.w3.org/2000/svg\" height=\"24px\" viewBox=\"0 -960 960 960\">\n",
              "    <path d=\"M120-120v-720h720v720H120Zm60-500h600v-160H180v160Zm220 220h160v-160H400v160Zm0 220h160v-160H400v160ZM180-400h160v-160H180v160Zm440 0h160v-160H620v160ZM180-180h160v-160H180v160Zm440 0h160v-160H620v160Z\"/>\n",
              "  </svg>\n",
              "    </button>\n",
              "\n",
              "  <style>\n",
              "    .colab-df-container {\n",
              "      display:flex;\n",
              "      gap: 12px;\n",
              "    }\n",
              "\n",
              "    .colab-df-convert {\n",
              "      background-color: #E8F0FE;\n",
              "      border: none;\n",
              "      border-radius: 50%;\n",
              "      cursor: pointer;\n",
              "      display: none;\n",
              "      fill: #1967D2;\n",
              "      height: 32px;\n",
              "      padding: 0 0 0 0;\n",
              "      width: 32px;\n",
              "    }\n",
              "\n",
              "    .colab-df-convert:hover {\n",
              "      background-color: #E2EBFA;\n",
              "      box-shadow: 0px 1px 2px rgba(60, 64, 67, 0.3), 0px 1px 3px 1px rgba(60, 64, 67, 0.15);\n",
              "      fill: #174EA6;\n",
              "    }\n",
              "\n",
              "    .colab-df-buttons div {\n",
              "      margin-bottom: 4px;\n",
              "    }\n",
              "\n",
              "    [theme=dark] .colab-df-convert {\n",
              "      background-color: #3B4455;\n",
              "      fill: #D2E3FC;\n",
              "    }\n",
              "\n",
              "    [theme=dark] .colab-df-convert:hover {\n",
              "      background-color: #434B5C;\n",
              "      box-shadow: 0px 1px 3px 1px rgba(0, 0, 0, 0.15);\n",
              "      filter: drop-shadow(0px 1px 2px rgba(0, 0, 0, 0.3));\n",
              "      fill: #FFFFFF;\n",
              "    }\n",
              "  </style>\n",
              "\n",
              "    <script>\n",
              "      const buttonEl =\n",
              "        document.querySelector('#df-54807faf-90d9-4ed4-b01b-f9f41627cd17 button.colab-df-convert');\n",
              "      buttonEl.style.display =\n",
              "        google.colab.kernel.accessAllowed ? 'block' : 'none';\n",
              "\n",
              "      async function convertToInteractive(key) {\n",
              "        const element = document.querySelector('#df-54807faf-90d9-4ed4-b01b-f9f41627cd17');\n",
              "        const dataTable =\n",
              "          await google.colab.kernel.invokeFunction('convertToInteractive',\n",
              "                                                    [key], {});\n",
              "        if (!dataTable) return;\n",
              "\n",
              "        const docLinkHtml = 'Like what you see? Visit the ' +\n",
              "          '<a target=\"_blank\" href=https://colab.research.google.com/notebooks/data_table.ipynb>data table notebook</a>'\n",
              "          + ' to learn more about interactive tables.';\n",
              "        element.innerHTML = '';\n",
              "        dataTable['output_type'] = 'display_data';\n",
              "        await google.colab.output.renderOutput(dataTable, element);\n",
              "        const docLink = document.createElement('div');\n",
              "        docLink.innerHTML = docLinkHtml;\n",
              "        element.appendChild(docLink);\n",
              "      }\n",
              "    </script>\n",
              "  </div>\n",
              "\n",
              "\n",
              "    <div id=\"df-76f25d38-4f6f-4be5-8dbb-10ea77232451\">\n",
              "      <button class=\"colab-df-quickchart\" onclick=\"quickchart('df-76f25d38-4f6f-4be5-8dbb-10ea77232451')\"\n",
              "                title=\"Suggest charts\"\n",
              "                style=\"display:none;\">\n",
              "\n",
              "<svg xmlns=\"http://www.w3.org/2000/svg\" height=\"24px\"viewBox=\"0 0 24 24\"\n",
              "     width=\"24px\">\n",
              "    <g>\n",
              "        <path d=\"M19 3H5c-1.1 0-2 .9-2 2v14c0 1.1.9 2 2 2h14c1.1 0 2-.9 2-2V5c0-1.1-.9-2-2-2zM9 17H7v-7h2v7zm4 0h-2V7h2v10zm4 0h-2v-4h2v4z\"/>\n",
              "    </g>\n",
              "</svg>\n",
              "      </button>\n",
              "\n",
              "<style>\n",
              "  .colab-df-quickchart {\n",
              "      --bg-color: #E8F0FE;\n",
              "      --fill-color: #1967D2;\n",
              "      --hover-bg-color: #E2EBFA;\n",
              "      --hover-fill-color: #174EA6;\n",
              "      --disabled-fill-color: #AAA;\n",
              "      --disabled-bg-color: #DDD;\n",
              "  }\n",
              "\n",
              "  [theme=dark] .colab-df-quickchart {\n",
              "      --bg-color: #3B4455;\n",
              "      --fill-color: #D2E3FC;\n",
              "      --hover-bg-color: #434B5C;\n",
              "      --hover-fill-color: #FFFFFF;\n",
              "      --disabled-bg-color: #3B4455;\n",
              "      --disabled-fill-color: #666;\n",
              "  }\n",
              "\n",
              "  .colab-df-quickchart {\n",
              "    background-color: var(--bg-color);\n",
              "    border: none;\n",
              "    border-radius: 50%;\n",
              "    cursor: pointer;\n",
              "    display: none;\n",
              "    fill: var(--fill-color);\n",
              "    height: 32px;\n",
              "    padding: 0;\n",
              "    width: 32px;\n",
              "  }\n",
              "\n",
              "  .colab-df-quickchart:hover {\n",
              "    background-color: var(--hover-bg-color);\n",
              "    box-shadow: 0 1px 2px rgba(60, 64, 67, 0.3), 0 1px 3px 1px rgba(60, 64, 67, 0.15);\n",
              "    fill: var(--button-hover-fill-color);\n",
              "  }\n",
              "\n",
              "  .colab-df-quickchart-complete:disabled,\n",
              "  .colab-df-quickchart-complete:disabled:hover {\n",
              "    background-color: var(--disabled-bg-color);\n",
              "    fill: var(--disabled-fill-color);\n",
              "    box-shadow: none;\n",
              "  }\n",
              "\n",
              "  .colab-df-spinner {\n",
              "    border: 2px solid var(--fill-color);\n",
              "    border-color: transparent;\n",
              "    border-bottom-color: var(--fill-color);\n",
              "    animation:\n",
              "      spin 1s steps(1) infinite;\n",
              "  }\n",
              "\n",
              "  @keyframes spin {\n",
              "    0% {\n",
              "      border-color: transparent;\n",
              "      border-bottom-color: var(--fill-color);\n",
              "      border-left-color: var(--fill-color);\n",
              "    }\n",
              "    20% {\n",
              "      border-color: transparent;\n",
              "      border-left-color: var(--fill-color);\n",
              "      border-top-color: var(--fill-color);\n",
              "    }\n",
              "    30% {\n",
              "      border-color: transparent;\n",
              "      border-left-color: var(--fill-color);\n",
              "      border-top-color: var(--fill-color);\n",
              "      border-right-color: var(--fill-color);\n",
              "    }\n",
              "    40% {\n",
              "      border-color: transparent;\n",
              "      border-right-color: var(--fill-color);\n",
              "      border-top-color: var(--fill-color);\n",
              "    }\n",
              "    60% {\n",
              "      border-color: transparent;\n",
              "      border-right-color: var(--fill-color);\n",
              "    }\n",
              "    80% {\n",
              "      border-color: transparent;\n",
              "      border-right-color: var(--fill-color);\n",
              "      border-bottom-color: var(--fill-color);\n",
              "    }\n",
              "    90% {\n",
              "      border-color: transparent;\n",
              "      border-bottom-color: var(--fill-color);\n",
              "    }\n",
              "  }\n",
              "</style>\n",
              "\n",
              "      <script>\n",
              "        async function quickchart(key) {\n",
              "          const quickchartButtonEl =\n",
              "            document.querySelector('#' + key + ' button');\n",
              "          quickchartButtonEl.disabled = true;  // To prevent multiple clicks.\n",
              "          quickchartButtonEl.classList.add('colab-df-spinner');\n",
              "          try {\n",
              "            const charts = await google.colab.kernel.invokeFunction(\n",
              "                'suggestCharts', [key], {});\n",
              "          } catch (error) {\n",
              "            console.error('Error during call to suggestCharts:', error);\n",
              "          }\n",
              "          quickchartButtonEl.classList.remove('colab-df-spinner');\n",
              "          quickchartButtonEl.classList.add('colab-df-quickchart-complete');\n",
              "        }\n",
              "        (() => {\n",
              "          let quickchartButtonEl =\n",
              "            document.querySelector('#df-76f25d38-4f6f-4be5-8dbb-10ea77232451 button');\n",
              "          quickchartButtonEl.style.display =\n",
              "            google.colab.kernel.accessAllowed ? 'block' : 'none';\n",
              "        })();\n",
              "      </script>\n",
              "    </div>\n",
              "\n",
              "    </div>\n",
              "  </div>\n"
            ],
            "application/vnd.google.colaboratory.intrinsic+json": {
              "type": "dataframe",
              "summary": "{\n  \"name\": \"display(books\",\n  \"rows\": 5,\n  \"fields\": [\n    {\n      \"column\": \"ISBN\",\n      \"properties\": {\n        \"dtype\": \"string\",\n        \"num_unique_values\": 5,\n        \"samples\": [\n          \"0002005018\",\n          \"0393045218\",\n          \"0060973129\"\n        ],\n        \"semantic_type\": \"\",\n        \"description\": \"\"\n      }\n    },\n    {\n      \"column\": \"Book-Title\",\n      \"properties\": {\n        \"dtype\": \"string\",\n        \"num_unique_values\": 5,\n        \"samples\": [\n          \"Clara Callan\",\n          \"The Mummies of Urumchi\",\n          \"Decision in Normandy\"\n        ],\n        \"semantic_type\": \"\",\n        \"description\": \"\"\n      }\n    },\n    {\n      \"column\": \"Book-Author\",\n      \"properties\": {\n        \"dtype\": \"string\",\n        \"num_unique_values\": 5,\n        \"samples\": [\n          \"Richard Bruce Wright\",\n          \"E. J. W. Barber\",\n          \"Carlo D'Este\"\n        ],\n        \"semantic_type\": \"\",\n        \"description\": \"\"\n      }\n    },\n    {\n      \"column\": \"Year-Of-Publication\",\n      \"properties\": {\n        \"dtype\": \"object\",\n        \"num_unique_values\": 4,\n        \"samples\": [\n          \"2001\",\n          \"1999\",\n          \"2002\"\n        ],\n        \"semantic_type\": \"\",\n        \"description\": \"\"\n      }\n    },\n    {\n      \"column\": \"Publisher\",\n      \"properties\": {\n        \"dtype\": \"string\",\n        \"num_unique_values\": 5,\n        \"samples\": [\n          \"HarperFlamingo Canada\",\n          \"W. W. Norton &amp; Company\",\n          \"HarperPerennial\"\n        ],\n        \"semantic_type\": \"\",\n        \"description\": \"\"\n      }\n    },\n    {\n      \"column\": \"Image-URL-S\",\n      \"properties\": {\n        \"dtype\": \"string\",\n        \"num_unique_values\": 5,\n        \"samples\": [\n          \"http://images.amazon.com/images/P/0002005018.01.THUMBZZZ.jpg\",\n          \"http://images.amazon.com/images/P/0393045218.01.THUMBZZZ.jpg\",\n          \"http://images.amazon.com/images/P/0060973129.01.THUMBZZZ.jpg\"\n        ],\n        \"semantic_type\": \"\",\n        \"description\": \"\"\n      }\n    },\n    {\n      \"column\": \"Image-URL-M\",\n      \"properties\": {\n        \"dtype\": \"string\",\n        \"num_unique_values\": 5,\n        \"samples\": [\n          \"http://images.amazon.com/images/P/0002005018.01.MZZZZZZZ.jpg\",\n          \"http://images.amazon.com/images/P/0393045218.01.MZZZZZZZ.jpg\",\n          \"http://images.amazon.com/images/P/0060973129.01.MZZZZZZZ.jpg\"\n        ],\n        \"semantic_type\": \"\",\n        \"description\": \"\"\n      }\n    },\n    {\n      \"column\": \"Image-URL-L\",\n      \"properties\": {\n        \"dtype\": \"string\",\n        \"num_unique_values\": 5,\n        \"samples\": [\n          \"http://images.amazon.com/images/P/0002005018.01.LZZZZZZZ.jpg\",\n          \"http://images.amazon.com/images/P/0393045218.01.LZZZZZZZ.jpg\",\n          \"http://images.amazon.com/images/P/0060973129.01.LZZZZZZZ.jpg\"\n        ],\n        \"semantic_type\": \"\",\n        \"description\": \"\"\n      }\n    }\n  ]\n}"
            }
          },
          "metadata": {}
        }
      ]
    },
    {
      "cell_type": "markdown",
      "source": [
        "Insight: Dataset berisi informasi dasar buku seperti ISBN, Judul Buku (Book-Title), Penulis (Book-Author), Tahun Terbit (Year-Of-Publication), dan Penerbit (Publisher). Ada juga beberapa kolom yang berisi URL gambar buku dengan ukuran kecil, sedang, dan besar (Image-URL-S, Image-URL-M, Image-URL-L) yang dapat digunakan untuk tampilan visual."
      ],
      "metadata": {
        "id": "EjWOMmFCt6dx"
      }
    },
    {
      "cell_type": "markdown",
      "source": [
        "#### Memuat file CSV berisi data rating pengguna terhadap buku dan menampilkan 5 baris pertama untuk melihat struktur data."
      ],
      "metadata": {
        "id": "bV4J7bAGuheH"
      }
    },
    {
      "cell_type": "code",
      "metadata": {
        "colab": {
          "base_uri": "https://localhost:8080/",
          "height": 206
        },
        "id": "3c215fd4",
        "outputId": "a3d62add-f159-4b76-9e4e-c452354fc70b"
      },
      "source": [
        "ratings = pd.read_csv('/content/book-recommendation-dataset/Ratings.csv')\n",
        "display(ratings.head())"
      ],
      "execution_count": null,
      "outputs": [
        {
          "output_type": "display_data",
          "data": {
            "text/plain": [
              "   User-ID        ISBN  Book-Rating\n",
              "0   276725  034545104X            0\n",
              "1   276726  0155061224            5\n",
              "2   276727  0446520802            0\n",
              "3   276729  052165615X            3\n",
              "4   276729  0521795028            6"
            ],
            "text/html": [
              "\n",
              "  <div id=\"df-b165543e-55ba-49f6-9d1d-af25c6a1ce2c\" class=\"colab-df-container\">\n",
              "    <div>\n",
              "<style scoped>\n",
              "    .dataframe tbody tr th:only-of-type {\n",
              "        vertical-align: middle;\n",
              "    }\n",
              "\n",
              "    .dataframe tbody tr th {\n",
              "        vertical-align: top;\n",
              "    }\n",
              "\n",
              "    .dataframe thead th {\n",
              "        text-align: right;\n",
              "    }\n",
              "</style>\n",
              "<table border=\"1\" class=\"dataframe\">\n",
              "  <thead>\n",
              "    <tr style=\"text-align: right;\">\n",
              "      <th></th>\n",
              "      <th>User-ID</th>\n",
              "      <th>ISBN</th>\n",
              "      <th>Book-Rating</th>\n",
              "    </tr>\n",
              "  </thead>\n",
              "  <tbody>\n",
              "    <tr>\n",
              "      <th>0</th>\n",
              "      <td>276725</td>\n",
              "      <td>034545104X</td>\n",
              "      <td>0</td>\n",
              "    </tr>\n",
              "    <tr>\n",
              "      <th>1</th>\n",
              "      <td>276726</td>\n",
              "      <td>0155061224</td>\n",
              "      <td>5</td>\n",
              "    </tr>\n",
              "    <tr>\n",
              "      <th>2</th>\n",
              "      <td>276727</td>\n",
              "      <td>0446520802</td>\n",
              "      <td>0</td>\n",
              "    </tr>\n",
              "    <tr>\n",
              "      <th>3</th>\n",
              "      <td>276729</td>\n",
              "      <td>052165615X</td>\n",
              "      <td>3</td>\n",
              "    </tr>\n",
              "    <tr>\n",
              "      <th>4</th>\n",
              "      <td>276729</td>\n",
              "      <td>0521795028</td>\n",
              "      <td>6</td>\n",
              "    </tr>\n",
              "  </tbody>\n",
              "</table>\n",
              "</div>\n",
              "    <div class=\"colab-df-buttons\">\n",
              "\n",
              "  <div class=\"colab-df-container\">\n",
              "    <button class=\"colab-df-convert\" onclick=\"convertToInteractive('df-b165543e-55ba-49f6-9d1d-af25c6a1ce2c')\"\n",
              "            title=\"Convert this dataframe to an interactive table.\"\n",
              "            style=\"display:none;\">\n",
              "\n",
              "  <svg xmlns=\"http://www.w3.org/2000/svg\" height=\"24px\" viewBox=\"0 -960 960 960\">\n",
              "    <path d=\"M120-120v-720h720v720H120Zm60-500h600v-160H180v160Zm220 220h160v-160H400v160Zm0 220h160v-160H400v160ZM180-400h160v-160H180v160Zm440 0h160v-160H620v160ZM180-180h160v-160H180v160Zm440 0h160v-160H620v160Z\"/>\n",
              "  </svg>\n",
              "    </button>\n",
              "\n",
              "  <style>\n",
              "    .colab-df-container {\n",
              "      display:flex;\n",
              "      gap: 12px;\n",
              "    }\n",
              "\n",
              "    .colab-df-convert {\n",
              "      background-color: #E8F0FE;\n",
              "      border: none;\n",
              "      border-radius: 50%;\n",
              "      cursor: pointer;\n",
              "      display: none;\n",
              "      fill: #1967D2;\n",
              "      height: 32px;\n",
              "      padding: 0 0 0 0;\n",
              "      width: 32px;\n",
              "    }\n",
              "\n",
              "    .colab-df-convert:hover {\n",
              "      background-color: #E2EBFA;\n",
              "      box-shadow: 0px 1px 2px rgba(60, 64, 67, 0.3), 0px 1px 3px 1px rgba(60, 64, 67, 0.15);\n",
              "      fill: #174EA6;\n",
              "    }\n",
              "\n",
              "    .colab-df-buttons div {\n",
              "      margin-bottom: 4px;\n",
              "    }\n",
              "\n",
              "    [theme=dark] .colab-df-convert {\n",
              "      background-color: #3B4455;\n",
              "      fill: #D2E3FC;\n",
              "    }\n",
              "\n",
              "    [theme=dark] .colab-df-convert:hover {\n",
              "      background-color: #434B5C;\n",
              "      box-shadow: 0px 1px 3px 1px rgba(0, 0, 0, 0.15);\n",
              "      filter: drop-shadow(0px 1px 2px rgba(0, 0, 0, 0.3));\n",
              "      fill: #FFFFFF;\n",
              "    }\n",
              "  </style>\n",
              "\n",
              "    <script>\n",
              "      const buttonEl =\n",
              "        document.querySelector('#df-b165543e-55ba-49f6-9d1d-af25c6a1ce2c button.colab-df-convert');\n",
              "      buttonEl.style.display =\n",
              "        google.colab.kernel.accessAllowed ? 'block' : 'none';\n",
              "\n",
              "      async function convertToInteractive(key) {\n",
              "        const element = document.querySelector('#df-b165543e-55ba-49f6-9d1d-af25c6a1ce2c');\n",
              "        const dataTable =\n",
              "          await google.colab.kernel.invokeFunction('convertToInteractive',\n",
              "                                                    [key], {});\n",
              "        if (!dataTable) return;\n",
              "\n",
              "        const docLinkHtml = 'Like what you see? Visit the ' +\n",
              "          '<a target=\"_blank\" href=https://colab.research.google.com/notebooks/data_table.ipynb>data table notebook</a>'\n",
              "          + ' to learn more about interactive tables.';\n",
              "        element.innerHTML = '';\n",
              "        dataTable['output_type'] = 'display_data';\n",
              "        await google.colab.output.renderOutput(dataTable, element);\n",
              "        const docLink = document.createElement('div');\n",
              "        docLink.innerHTML = docLinkHtml;\n",
              "        element.appendChild(docLink);\n",
              "      }\n",
              "    </script>\n",
              "  </div>\n",
              "\n",
              "\n",
              "    <div id=\"df-551ed0c5-dd3b-4b78-98f4-66d4172a375e\">\n",
              "      <button class=\"colab-df-quickchart\" onclick=\"quickchart('df-551ed0c5-dd3b-4b78-98f4-66d4172a375e')\"\n",
              "                title=\"Suggest charts\"\n",
              "                style=\"display:none;\">\n",
              "\n",
              "<svg xmlns=\"http://www.w3.org/2000/svg\" height=\"24px\"viewBox=\"0 0 24 24\"\n",
              "     width=\"24px\">\n",
              "    <g>\n",
              "        <path d=\"M19 3H5c-1.1 0-2 .9-2 2v14c0 1.1.9 2 2 2h14c1.1 0 2-.9 2-2V5c0-1.1-.9-2-2-2zM9 17H7v-7h2v7zm4 0h-2V7h2v10zm4 0h-2v-4h2v4z\"/>\n",
              "    </g>\n",
              "</svg>\n",
              "      </button>\n",
              "\n",
              "<style>\n",
              "  .colab-df-quickchart {\n",
              "      --bg-color: #E8F0FE;\n",
              "      --fill-color: #1967D2;\n",
              "      --hover-bg-color: #E2EBFA;\n",
              "      --hover-fill-color: #174EA6;\n",
              "      --disabled-fill-color: #AAA;\n",
              "      --disabled-bg-color: #DDD;\n",
              "  }\n",
              "\n",
              "  [theme=dark] .colab-df-quickchart {\n",
              "      --bg-color: #3B4455;\n",
              "      --fill-color: #D2E3FC;\n",
              "      --hover-bg-color: #434B5C;\n",
              "      --hover-fill-color: #FFFFFF;\n",
              "      --disabled-bg-color: #3B4455;\n",
              "      --disabled-fill-color: #666;\n",
              "  }\n",
              "\n",
              "  .colab-df-quickchart {\n",
              "    background-color: var(--bg-color);\n",
              "    border: none;\n",
              "    border-radius: 50%;\n",
              "    cursor: pointer;\n",
              "    display: none;\n",
              "    fill: var(--fill-color);\n",
              "    height: 32px;\n",
              "    padding: 0;\n",
              "    width: 32px;\n",
              "  }\n",
              "\n",
              "  .colab-df-quickchart:hover {\n",
              "    background-color: var(--hover-bg-color);\n",
              "    box-shadow: 0 1px 2px rgba(60, 64, 67, 0.3), 0 1px 3px 1px rgba(60, 64, 67, 0.15);\n",
              "    fill: var(--button-hover-fill-color);\n",
              "  }\n",
              "\n",
              "  .colab-df-quickchart-complete:disabled,\n",
              "  .colab-df-quickchart-complete:disabled:hover {\n",
              "    background-color: var(--disabled-bg-color);\n",
              "    fill: var(--disabled-fill-color);\n",
              "    box-shadow: none;\n",
              "  }\n",
              "\n",
              "  .colab-df-spinner {\n",
              "    border: 2px solid var(--fill-color);\n",
              "    border-color: transparent;\n",
              "    border-bottom-color: var(--fill-color);\n",
              "    animation:\n",
              "      spin 1s steps(1) infinite;\n",
              "  }\n",
              "\n",
              "  @keyframes spin {\n",
              "    0% {\n",
              "      border-color: transparent;\n",
              "      border-bottom-color: var(--fill-color);\n",
              "      border-left-color: var(--fill-color);\n",
              "    }\n",
              "    20% {\n",
              "      border-color: transparent;\n",
              "      border-left-color: var(--fill-color);\n",
              "      border-top-color: var(--fill-color);\n",
              "    }\n",
              "    30% {\n",
              "      border-color: transparent;\n",
              "      border-left-color: var(--fill-color);\n",
              "      border-top-color: var(--fill-color);\n",
              "      border-right-color: var(--fill-color);\n",
              "    }\n",
              "    40% {\n",
              "      border-color: transparent;\n",
              "      border-right-color: var(--fill-color);\n",
              "      border-top-color: var(--fill-color);\n",
              "    }\n",
              "    60% {\n",
              "      border-color: transparent;\n",
              "      border-right-color: var(--fill-color);\n",
              "    }\n",
              "    80% {\n",
              "      border-color: transparent;\n",
              "      border-right-color: var(--fill-color);\n",
              "      border-bottom-color: var(--fill-color);\n",
              "    }\n",
              "    90% {\n",
              "      border-color: transparent;\n",
              "      border-bottom-color: var(--fill-color);\n",
              "    }\n",
              "  }\n",
              "</style>\n",
              "\n",
              "      <script>\n",
              "        async function quickchart(key) {\n",
              "          const quickchartButtonEl =\n",
              "            document.querySelector('#' + key + ' button');\n",
              "          quickchartButtonEl.disabled = true;  // To prevent multiple clicks.\n",
              "          quickchartButtonEl.classList.add('colab-df-spinner');\n",
              "          try {\n",
              "            const charts = await google.colab.kernel.invokeFunction(\n",
              "                'suggestCharts', [key], {});\n",
              "          } catch (error) {\n",
              "            console.error('Error during call to suggestCharts:', error);\n",
              "          }\n",
              "          quickchartButtonEl.classList.remove('colab-df-spinner');\n",
              "          quickchartButtonEl.classList.add('colab-df-quickchart-complete');\n",
              "        }\n",
              "        (() => {\n",
              "          let quickchartButtonEl =\n",
              "            document.querySelector('#df-551ed0c5-dd3b-4b78-98f4-66d4172a375e button');\n",
              "          quickchartButtonEl.style.display =\n",
              "            google.colab.kernel.accessAllowed ? 'block' : 'none';\n",
              "        })();\n",
              "      </script>\n",
              "    </div>\n",
              "\n",
              "    </div>\n",
              "  </div>\n"
            ],
            "application/vnd.google.colaboratory.intrinsic+json": {
              "type": "dataframe",
              "summary": "{\n  \"name\": \"display(ratings\",\n  \"rows\": 5,\n  \"fields\": [\n    {\n      \"column\": \"User-ID\",\n      \"properties\": {\n        \"dtype\": \"number\",\n        \"std\": 1,\n        \"min\": 276725,\n        \"max\": 276729,\n        \"num_unique_values\": 4,\n        \"samples\": [\n          276726,\n          276729,\n          276725\n        ],\n        \"semantic_type\": \"\",\n        \"description\": \"\"\n      }\n    },\n    {\n      \"column\": \"ISBN\",\n      \"properties\": {\n        \"dtype\": \"string\",\n        \"num_unique_values\": 5,\n        \"samples\": [\n          \"0155061224\",\n          \"0521795028\",\n          \"0446520802\"\n        ],\n        \"semantic_type\": \"\",\n        \"description\": \"\"\n      }\n    },\n    {\n      \"column\": \"Book-Rating\",\n      \"properties\": {\n        \"dtype\": \"number\",\n        \"std\": 2,\n        \"min\": 0,\n        \"max\": 6,\n        \"num_unique_values\": 4,\n        \"samples\": [\n          5,\n          6,\n          0\n        ],\n        \"semantic_type\": \"\",\n        \"description\": \"\"\n      }\n    }\n  ]\n}"
            }
          },
          "metadata": {}
        }
      ]
    },
    {
      "cell_type": "markdown",
      "source": [
        "Insight: Output tersebut menunjukkan data rating buku oleh pengguna, di mana setiap baris merepresentasikan sebuah interaksi antara pengguna (User-ID) dan buku (ISBN) dengan skor rating (Book-Rating) yang diberikan. Terlihat ada nilai rating nol, yang kemungkinan menunjukkan ketidaktertarikan atau interaksi minimal."
      ],
      "metadata": {
        "id": "ZGDmEOOVvA-b"
      }
    },
    {
      "cell_type": "markdown",
      "source": [
        "#### Memuat file CSV berisi data pengguna dan menampilkan 5 baris pertama untuk melihat struktur data pengguna."
      ],
      "metadata": {
        "id": "CWQp-D5bvPcO"
      }
    },
    {
      "cell_type": "code",
      "metadata": {
        "colab": {
          "base_uri": "https://localhost:8080/",
          "height": 206
        },
        "id": "a71fd39a",
        "outputId": "10752a4b-4cf2-47ba-8769-d817a76c96a3"
      },
      "source": [
        "users = pd.read_csv('/content/book-recommendation-dataset/Users.csv')\n",
        "display(users.head())"
      ],
      "execution_count": null,
      "outputs": [
        {
          "output_type": "display_data",
          "data": {
            "text/plain": [
              "   User-ID                            Location   Age\n",
              "0        1                  nyc, new york, usa   NaN\n",
              "1        2           stockton, california, usa  18.0\n",
              "2        3     moscow, yukon territory, russia   NaN\n",
              "3        4           porto, v.n.gaia, portugal  17.0\n",
              "4        5  farnborough, hants, united kingdom   NaN"
            ],
            "text/html": [
              "\n",
              "  <div id=\"df-c36b97a3-7ad5-433e-bab3-584c826d2670\" class=\"colab-df-container\">\n",
              "    <div>\n",
              "<style scoped>\n",
              "    .dataframe tbody tr th:only-of-type {\n",
              "        vertical-align: middle;\n",
              "    }\n",
              "\n",
              "    .dataframe tbody tr th {\n",
              "        vertical-align: top;\n",
              "    }\n",
              "\n",
              "    .dataframe thead th {\n",
              "        text-align: right;\n",
              "    }\n",
              "</style>\n",
              "<table border=\"1\" class=\"dataframe\">\n",
              "  <thead>\n",
              "    <tr style=\"text-align: right;\">\n",
              "      <th></th>\n",
              "      <th>User-ID</th>\n",
              "      <th>Location</th>\n",
              "      <th>Age</th>\n",
              "    </tr>\n",
              "  </thead>\n",
              "  <tbody>\n",
              "    <tr>\n",
              "      <th>0</th>\n",
              "      <td>1</td>\n",
              "      <td>nyc, new york, usa</td>\n",
              "      <td>NaN</td>\n",
              "    </tr>\n",
              "    <tr>\n",
              "      <th>1</th>\n",
              "      <td>2</td>\n",
              "      <td>stockton, california, usa</td>\n",
              "      <td>18.0</td>\n",
              "    </tr>\n",
              "    <tr>\n",
              "      <th>2</th>\n",
              "      <td>3</td>\n",
              "      <td>moscow, yukon territory, russia</td>\n",
              "      <td>NaN</td>\n",
              "    </tr>\n",
              "    <tr>\n",
              "      <th>3</th>\n",
              "      <td>4</td>\n",
              "      <td>porto, v.n.gaia, portugal</td>\n",
              "      <td>17.0</td>\n",
              "    </tr>\n",
              "    <tr>\n",
              "      <th>4</th>\n",
              "      <td>5</td>\n",
              "      <td>farnborough, hants, united kingdom</td>\n",
              "      <td>NaN</td>\n",
              "    </tr>\n",
              "  </tbody>\n",
              "</table>\n",
              "</div>\n",
              "    <div class=\"colab-df-buttons\">\n",
              "\n",
              "  <div class=\"colab-df-container\">\n",
              "    <button class=\"colab-df-convert\" onclick=\"convertToInteractive('df-c36b97a3-7ad5-433e-bab3-584c826d2670')\"\n",
              "            title=\"Convert this dataframe to an interactive table.\"\n",
              "            style=\"display:none;\">\n",
              "\n",
              "  <svg xmlns=\"http://www.w3.org/2000/svg\" height=\"24px\" viewBox=\"0 -960 960 960\">\n",
              "    <path d=\"M120-120v-720h720v720H120Zm60-500h600v-160H180v160Zm220 220h160v-160H400v160Zm0 220h160v-160H400v160ZM180-400h160v-160H180v160Zm440 0h160v-160H620v160ZM180-180h160v-160H180v160Zm440 0h160v-160H620v160Z\"/>\n",
              "  </svg>\n",
              "    </button>\n",
              "\n",
              "  <style>\n",
              "    .colab-df-container {\n",
              "      display:flex;\n",
              "      gap: 12px;\n",
              "    }\n",
              "\n",
              "    .colab-df-convert {\n",
              "      background-color: #E8F0FE;\n",
              "      border: none;\n",
              "      border-radius: 50%;\n",
              "      cursor: pointer;\n",
              "      display: none;\n",
              "      fill: #1967D2;\n",
              "      height: 32px;\n",
              "      padding: 0 0 0 0;\n",
              "      width: 32px;\n",
              "    }\n",
              "\n",
              "    .colab-df-convert:hover {\n",
              "      background-color: #E2EBFA;\n",
              "      box-shadow: 0px 1px 2px rgba(60, 64, 67, 0.3), 0px 1px 3px 1px rgba(60, 64, 67, 0.15);\n",
              "      fill: #174EA6;\n",
              "    }\n",
              "\n",
              "    .colab-df-buttons div {\n",
              "      margin-bottom: 4px;\n",
              "    }\n",
              "\n",
              "    [theme=dark] .colab-df-convert {\n",
              "      background-color: #3B4455;\n",
              "      fill: #D2E3FC;\n",
              "    }\n",
              "\n",
              "    [theme=dark] .colab-df-convert:hover {\n",
              "      background-color: #434B5C;\n",
              "      box-shadow: 0px 1px 3px 1px rgba(0, 0, 0, 0.15);\n",
              "      filter: drop-shadow(0px 1px 2px rgba(0, 0, 0, 0.3));\n",
              "      fill: #FFFFFF;\n",
              "    }\n",
              "  </style>\n",
              "\n",
              "    <script>\n",
              "      const buttonEl =\n",
              "        document.querySelector('#df-c36b97a3-7ad5-433e-bab3-584c826d2670 button.colab-df-convert');\n",
              "      buttonEl.style.display =\n",
              "        google.colab.kernel.accessAllowed ? 'block' : 'none';\n",
              "\n",
              "      async function convertToInteractive(key) {\n",
              "        const element = document.querySelector('#df-c36b97a3-7ad5-433e-bab3-584c826d2670');\n",
              "        const dataTable =\n",
              "          await google.colab.kernel.invokeFunction('convertToInteractive',\n",
              "                                                    [key], {});\n",
              "        if (!dataTable) return;\n",
              "\n",
              "        const docLinkHtml = 'Like what you see? Visit the ' +\n",
              "          '<a target=\"_blank\" href=https://colab.research.google.com/notebooks/data_table.ipynb>data table notebook</a>'\n",
              "          + ' to learn more about interactive tables.';\n",
              "        element.innerHTML = '';\n",
              "        dataTable['output_type'] = 'display_data';\n",
              "        await google.colab.output.renderOutput(dataTable, element);\n",
              "        const docLink = document.createElement('div');\n",
              "        docLink.innerHTML = docLinkHtml;\n",
              "        element.appendChild(docLink);\n",
              "      }\n",
              "    </script>\n",
              "  </div>\n",
              "\n",
              "\n",
              "    <div id=\"df-ae527c27-7fe7-499e-9e1e-3b9f4c678db9\">\n",
              "      <button class=\"colab-df-quickchart\" onclick=\"quickchart('df-ae527c27-7fe7-499e-9e1e-3b9f4c678db9')\"\n",
              "                title=\"Suggest charts\"\n",
              "                style=\"display:none;\">\n",
              "\n",
              "<svg xmlns=\"http://www.w3.org/2000/svg\" height=\"24px\"viewBox=\"0 0 24 24\"\n",
              "     width=\"24px\">\n",
              "    <g>\n",
              "        <path d=\"M19 3H5c-1.1 0-2 .9-2 2v14c0 1.1.9 2 2 2h14c1.1 0 2-.9 2-2V5c0-1.1-.9-2-2-2zM9 17H7v-7h2v7zm4 0h-2V7h2v10zm4 0h-2v-4h2v4z\"/>\n",
              "    </g>\n",
              "</svg>\n",
              "      </button>\n",
              "\n",
              "<style>\n",
              "  .colab-df-quickchart {\n",
              "      --bg-color: #E8F0FE;\n",
              "      --fill-color: #1967D2;\n",
              "      --hover-bg-color: #E2EBFA;\n",
              "      --hover-fill-color: #174EA6;\n",
              "      --disabled-fill-color: #AAA;\n",
              "      --disabled-bg-color: #DDD;\n",
              "  }\n",
              "\n",
              "  [theme=dark] .colab-df-quickchart {\n",
              "      --bg-color: #3B4455;\n",
              "      --fill-color: #D2E3FC;\n",
              "      --hover-bg-color: #434B5C;\n",
              "      --hover-fill-color: #FFFFFF;\n",
              "      --disabled-bg-color: #3B4455;\n",
              "      --disabled-fill-color: #666;\n",
              "  }\n",
              "\n",
              "  .colab-df-quickchart {\n",
              "    background-color: var(--bg-color);\n",
              "    border: none;\n",
              "    border-radius: 50%;\n",
              "    cursor: pointer;\n",
              "    display: none;\n",
              "    fill: var(--fill-color);\n",
              "    height: 32px;\n",
              "    padding: 0;\n",
              "    width: 32px;\n",
              "  }\n",
              "\n",
              "  .colab-df-quickchart:hover {\n",
              "    background-color: var(--hover-bg-color);\n",
              "    box-shadow: 0 1px 2px rgba(60, 64, 67, 0.3), 0 1px 3px 1px rgba(60, 64, 67, 0.15);\n",
              "    fill: var(--button-hover-fill-color);\n",
              "  }\n",
              "\n",
              "  .colab-df-quickchart-complete:disabled,\n",
              "  .colab-df-quickchart-complete:disabled:hover {\n",
              "    background-color: var(--disabled-bg-color);\n",
              "    fill: var(--disabled-fill-color);\n",
              "    box-shadow: none;\n",
              "  }\n",
              "\n",
              "  .colab-df-spinner {\n",
              "    border: 2px solid var(--fill-color);\n",
              "    border-color: transparent;\n",
              "    border-bottom-color: var(--fill-color);\n",
              "    animation:\n",
              "      spin 1s steps(1) infinite;\n",
              "  }\n",
              "\n",
              "  @keyframes spin {\n",
              "    0% {\n",
              "      border-color: transparent;\n",
              "      border-bottom-color: var(--fill-color);\n",
              "      border-left-color: var(--fill-color);\n",
              "    }\n",
              "    20% {\n",
              "      border-color: transparent;\n",
              "      border-left-color: var(--fill-color);\n",
              "      border-top-color: var(--fill-color);\n",
              "    }\n",
              "    30% {\n",
              "      border-color: transparent;\n",
              "      border-left-color: var(--fill-color);\n",
              "      border-top-color: var(--fill-color);\n",
              "      border-right-color: var(--fill-color);\n",
              "    }\n",
              "    40% {\n",
              "      border-color: transparent;\n",
              "      border-right-color: var(--fill-color);\n",
              "      border-top-color: var(--fill-color);\n",
              "    }\n",
              "    60% {\n",
              "      border-color: transparent;\n",
              "      border-right-color: var(--fill-color);\n",
              "    }\n",
              "    80% {\n",
              "      border-color: transparent;\n",
              "      border-right-color: var(--fill-color);\n",
              "      border-bottom-color: var(--fill-color);\n",
              "    }\n",
              "    90% {\n",
              "      border-color: transparent;\n",
              "      border-bottom-color: var(--fill-color);\n",
              "    }\n",
              "  }\n",
              "</style>\n",
              "\n",
              "      <script>\n",
              "        async function quickchart(key) {\n",
              "          const quickchartButtonEl =\n",
              "            document.querySelector('#' + key + ' button');\n",
              "          quickchartButtonEl.disabled = true;  // To prevent multiple clicks.\n",
              "          quickchartButtonEl.classList.add('colab-df-spinner');\n",
              "          try {\n",
              "            const charts = await google.colab.kernel.invokeFunction(\n",
              "                'suggestCharts', [key], {});\n",
              "          } catch (error) {\n",
              "            console.error('Error during call to suggestCharts:', error);\n",
              "          }\n",
              "          quickchartButtonEl.classList.remove('colab-df-spinner');\n",
              "          quickchartButtonEl.classList.add('colab-df-quickchart-complete');\n",
              "        }\n",
              "        (() => {\n",
              "          let quickchartButtonEl =\n",
              "            document.querySelector('#df-ae527c27-7fe7-499e-9e1e-3b9f4c678db9 button');\n",
              "          quickchartButtonEl.style.display =\n",
              "            google.colab.kernel.accessAllowed ? 'block' : 'none';\n",
              "        })();\n",
              "      </script>\n",
              "    </div>\n",
              "\n",
              "    </div>\n",
              "  </div>\n"
            ],
            "application/vnd.google.colaboratory.intrinsic+json": {
              "type": "dataframe",
              "summary": "{\n  \"name\": \"display(users\",\n  \"rows\": 5,\n  \"fields\": [\n    {\n      \"column\": \"User-ID\",\n      \"properties\": {\n        \"dtype\": \"number\",\n        \"std\": 1,\n        \"min\": 1,\n        \"max\": 5,\n        \"num_unique_values\": 5,\n        \"samples\": [\n          2,\n          5,\n          3\n        ],\n        \"semantic_type\": \"\",\n        \"description\": \"\"\n      }\n    },\n    {\n      \"column\": \"Location\",\n      \"properties\": {\n        \"dtype\": \"string\",\n        \"num_unique_values\": 5,\n        \"samples\": [\n          \"stockton, california, usa\",\n          \"farnborough, hants, united kingdom\",\n          \"moscow, yukon territory, russia\"\n        ],\n        \"semantic_type\": \"\",\n        \"description\": \"\"\n      }\n    },\n    {\n      \"column\": \"Age\",\n      \"properties\": {\n        \"dtype\": \"number\",\n        \"std\": 0.7071067811865476,\n        \"min\": 17.0,\n        \"max\": 18.0,\n        \"num_unique_values\": 2,\n        \"samples\": [\n          17.0,\n          18.0\n        ],\n        \"semantic_type\": \"\",\n        \"description\": \"\"\n      }\n    }\n  ]\n}"
            }
          },
          "metadata": {}
        }
      ]
    },
    {
      "cell_type": "markdown",
      "source": [
        "Insight: Output ini menunjukkan data dasar pengguna dengan kolom User-ID, Location, dan Age. Terlihat bahwa sebagian besar data Age masih kosong (NaN), yang menandakan perlunya penanganan missing value pada kolom umur untuk analisis lebih lanjut."
      ],
      "metadata": {
        "id": "a1Opfpz7vwZF"
      }
    },
    {
      "cell_type": "markdown",
      "source": [
        "### Univariate Eksploratory Data Analysis"
      ],
      "metadata": {
        "id": "KA4E78K2HP5M"
      }
    },
    {
      "cell_type": "markdown",
      "source": [
        "#### Books Variable"
      ],
      "metadata": {
        "id": "AvozQUbsJBsf"
      }
    },
    {
      "cell_type": "markdown",
      "source": [
        "##### Menampilkan ringkasan struktur dataset buku."
      ],
      "metadata": {
        "id": "zy4323tSwEc9"
      }
    },
    {
      "cell_type": "code",
      "source": [
        "print(\"Info dataset Books:\")\n",
        "print(books.info())"
      ],
      "metadata": {
        "colab": {
          "base_uri": "https://localhost:8080/"
        },
        "id": "oo-Qh0dhHT6A",
        "outputId": "ce3ce74b-ffa5-4370-df7f-2a963b1145ce"
      },
      "execution_count": null,
      "outputs": [
        {
          "output_type": "stream",
          "name": "stdout",
          "text": [
            "Info dataset Books:\n",
            "<class 'pandas.core.frame.DataFrame'>\n",
            "RangeIndex: 271360 entries, 0 to 271359\n",
            "Data columns (total 8 columns):\n",
            " #   Column               Non-Null Count   Dtype \n",
            "---  ------               --------------   ----- \n",
            " 0   ISBN                 271360 non-null  object\n",
            " 1   Book-Title           271360 non-null  object\n",
            " 2   Book-Author          271358 non-null  object\n",
            " 3   Year-Of-Publication  271360 non-null  object\n",
            " 4   Publisher            271358 non-null  object\n",
            " 5   Image-URL-S          271360 non-null  object\n",
            " 6   Image-URL-M          271360 non-null  object\n",
            " 7   Image-URL-L          271357 non-null  object\n",
            "dtypes: object(8)\n",
            "memory usage: 16.6+ MB\n",
            "None\n"
          ]
        }
      ]
    },
    {
      "cell_type": "markdown",
      "source": [
        "Insight: Dataset buku memiliki sekitar 271 ribu entri dengan delapan kolom yang mencakup informasi penting seperti ISBN, judul, penulis, tahun terbit, penerbit, dan beberapa URL gambar buku dengan ukuran berbeda. Sebagian besar kolom memiliki data lengkap tanpa nilai kosong, kecuali beberapa baris pada kolom penulis, penerbit, dan URL gambar berukuran besar yang menunjukkan adanya data hilang yang perlu diperhatikan saat preprocessing. Semua kolom bertipe objek, sehingga beberapa kolom seperti tahun terbit memerlukan konversi tipe data agar dapat diolah secara numerik."
      ],
      "metadata": {
        "id": "rP_sFxTTwYO-"
      }
    },
    {
      "cell_type": "markdown",
      "source": [
        "##### Meampilkan Statistik Data Books"
      ],
      "metadata": {
        "id": "G2BcB9qcw0ZQ"
      }
    },
    {
      "cell_type": "code",
      "source": [
        "print(f\"Total data buku: {len(books)}\")\n",
        "\n",
        "for col in ['Book-Title', 'Book-Author', 'Year-Of-Publication', 'Publisher']:\n",
        "    print(f\"\\nKolom: {col}\")\n",
        "    print(f\"Jumlah nilai unik: {books[col].nunique()}\")\n",
        "    print(\"5 nilai teratas berdasarkan frekuensi:\")\n",
        "    print(books[col].value_counts().head())"
      ],
      "metadata": {
        "colab": {
          "base_uri": "https://localhost:8080/"
        },
        "id": "FNYEsNTuJUEG",
        "outputId": "9cf65b94-47aa-482c-e7a1-9e4056484317"
      },
      "execution_count": null,
      "outputs": [
        {
          "output_type": "stream",
          "name": "stdout",
          "text": [
            "Total data buku: 271360\n",
            "\n",
            "Kolom: Book-Title\n",
            "Jumlah nilai unik: 242135\n",
            "5 nilai teratas berdasarkan frekuensi:\n",
            "Book-Title\n",
            "Selected Poems                    27\n",
            "Little Women                      24\n",
            "Wuthering Heights                 21\n",
            "Dracula                           20\n",
            "Adventures of Huckleberry Finn    20\n",
            "Name: count, dtype: int64\n",
            "\n",
            "Kolom: Book-Author\n",
            "Jumlah nilai unik: 102022\n",
            "5 nilai teratas berdasarkan frekuensi:\n",
            "Book-Author\n",
            "Agatha Christie        632\n",
            "William Shakespeare    567\n",
            "Stephen King           524\n",
            "Ann M. Martin          423\n",
            "Carolyn Keene          373\n",
            "Name: count, dtype: int64\n",
            "\n",
            "Kolom: Year-Of-Publication\n",
            "Jumlah nilai unik: 118\n",
            "5 nilai teratas berdasarkan frekuensi:\n",
            "Year-Of-Publication\n",
            "2002    17627\n",
            "1999    17431\n",
            "2001    17359\n",
            "2000    17232\n",
            "1998    15766\n",
            "Name: count, dtype: int64\n",
            "\n",
            "Kolom: Publisher\n",
            "Jumlah nilai unik: 16807\n",
            "5 nilai teratas berdasarkan frekuensi:\n",
            "Publisher\n",
            "Harlequin           7535\n",
            "Silhouette          4220\n",
            "Pocket              3905\n",
            "Ballantine Books    3783\n",
            "Bantam Books        3646\n",
            "Name: count, dtype: int64\n"
          ]
        }
      ]
    },
    {
      "cell_type": "markdown",
      "source": [
        "Insight: Data buku sangat kaya dan beragam, dengan total sekitar 271 ribu entri dan lebih dari 242 ribu judul unik, menunjukkan bahwa sebagian besar buku hanya muncul satu kali atau sangat sedikit kemunculannya. Beberapa judul klasik seperti Selected Poems dan Little Women termasuk yang paling sering muncul, namun frekuensi tertinggi pun relatif rendah, yaitu puluhan kali saja.\n",
        "\n",
        "Penulis terkenal seperti Agatha Christie, William Shakespeare, dan Stephen King mendominasi daftar dengan ratusan karya yang terdaftar, memberikan gambaran bahwa karya-karya dari penulis populer memiliki bobot signifikan dalam dataset. Tahun terbit bervariasi antara akhir abad ke-20 dan awal abad ke-21, dengan tahun 2002 sebagai tahun terbit terbanyak, mengindikasikan bahwa dataset ini lebih banyak memuat buku-buku modern."
      ],
      "metadata": {
        "id": "K9Gbn0KrxLxv"
      }
    },
    {
      "cell_type": "markdown",
      "source": [
        "##### Visualisasi Distribusi Tahun Terbit Buku"
      ],
      "metadata": {
        "id": "ntMBg4DvxYQg"
      }
    },
    {
      "cell_type": "code",
      "source": [
        "books['Year-Of-Publication'] = pd.to_numeric(books['Year-Of-Publication'], errors='coerce')\n",
        "\n",
        "plt.figure(figsize=(14,6))\n",
        "sns.histplot(books['Year-Of-Publication'].dropna(), bins=100, kde=False, color='skyblue')\n",
        "plt.title('Distribusi Tahun Terbit Buku (Semua Tahun)')\n",
        "plt.xlabel('Year-Of-Publication')\n",
        "plt.ylabel('Jumlah Buku')\n",
        "plt.show()"
      ],
      "metadata": {
        "colab": {
          "base_uri": "https://localhost:8080/",
          "height": 564
        },
        "id": "jl4Xois7JhEK",
        "outputId": "721d9040-e66a-4bdf-d347-fe8d4d95d61b"
      },
      "execution_count": null,
      "outputs": [
        {
          "output_type": "display_data",
          "data": {
            "text/plain": [
              "<Figure size 1400x600 with 1 Axes>"
            ],
            "image/png": "[encoded data removed]"
          },
          "metadata": {}
        }
      ]
    },
    {
      "cell_type": "markdown",
      "source": [
        "Insight: Distribusi tahun terbit buku menunjukkan sebagian besar buku berada pada rentang tahun modern, terutama setelah tahun 1900, dengan lonjakan besar pada tahun-tahun terbaru menjelang tahun 2000-an hingga sekitar 2010-an. Ada juga sejumlah kecil data dengan tahun terbit 0 atau nilai ekstrem, yang mungkin merupakan data tidak valid atau placeholder yang perlu dibersihkan. Pola ini mengindikasikan bahwa koleksi buku dalam dataset lebih banyak memuat karya-karya relatif baru dibandingkan dengan buku-buku klasik atau sangat tua."
      ],
      "metadata": {
        "id": "P3ECI3yQxmcd"
      }
    },
    {
      "cell_type": "markdown",
      "source": [
        "##### Visualisasi Publisher dan Penulis Terbanyak"
      ],
      "metadata": {
        "id": "5xmqDkutx5q7"
      }
    },
    {
      "cell_type": "code",
      "source": [
        "plt.figure(figsize=(14,6))\n",
        "top_publishers = books['Publisher'].value_counts().head(10)\n",
        "sns.barplot(x=top_publishers.values, y=top_publishers.index, palette='viridis')\n",
        "plt.title('10 Publisher Buku Terbanyak')\n",
        "plt.xlabel('Jumlah Buku')\n",
        "plt.ylabel('Publisher')\n",
        "plt.show()\n",
        "\n",
        "plt.figure(figsize=(14,6))\n",
        "top_authors = books['Book-Author'].value_counts().head(10)\n",
        "sns.barplot(x=top_authors.values, y=top_authors.index, palette='magma')\n",
        "plt.title('10 Penulis Buku Terbanyak')\n",
        "plt.xlabel('Jumlah Buku')\n",
        "plt.ylabel('Penulis')\n",
        "plt.show()"
      ],
      "metadata": {
        "colab": {
          "base_uri": "https://localhost:8080/",
          "height": 1000
        },
        "id": "R_xR4ZGOMUih",
        "outputId": "e07bc375-3654-477c-9467-736ca5b00f2c"
      },
      "execution_count": null,
      "outputs": [
        {
          "output_type": "stream",
          "name": "stderr",
          "text": [
            "<ipython-input-12-5ea1d01bb721>:3: FutureWarning: \n",
            "\n",
            "Passing `palette` without assigning `hue` is deprecated and will be removed in v0.14.0. Assign the `y` variable to `hue` and set `legend=False` for the same effect.\n",
            "\n",
            "  sns.barplot(x=top_publishers.values, y=top_publishers.index, palette='viridis')\n"
          ]
        },
        {
          "output_type": "display_data",
          "data": {
            "text/plain": [
              "<Figure size 1400x600 with 1 Axes>"
            ],
            "image/png": "[encoded data removed]"
          },
          "metadata": {}
        },
        {
          "output_type": "stream",
          "name": "stderr",
          "text": [
            "<ipython-input-12-5ea1d01bb721>:11: FutureWarning: \n",
            "\n",
            "Passing `palette` without assigning `hue` is deprecated and will be removed in v0.14.0. Assign the `y` variable to `hue` and set `legend=False` for the same effect.\n",
            "\n",
            "  sns.barplot(x=top_authors.values, y=top_authors.index, palette='magma')\n"
          ]
        },
        {
          "output_type": "display_data",
          "data": {
            "text/plain": [
              "<Figure size 1400x600 with 1 Axes>"
            ],
            "image/png": "[encoded data removed]"
          },
          "metadata": {}
        }
      ]
    },
    {
      "cell_type": "markdown",
      "source": [
        "Insight:\n",
        "\n",
        "Dari visualisasi publisher dan penulis terbanyak, dapat disimpulkan beberapa hal penting:\n",
        "\n",
        "Publisher Teratas: Penerbit seperti Harlequin, Silhouette, dan Pocket mendominasi jumlah buku dalam dataset, dengan Harlequin memiliki jumlah buku terbanyak yang mencapai sekitar 7.500 judul. Ini menunjukkan peran besar penerbit besar dalam menyediakan koleksi buku yang luas dan beragam.\n",
        "\n",
        "Penulis Teratas: Penulis seperti Agatha Christie, William Shakespeare, dan Stephen King merupakan pengarang dengan jumlah karya terbanyak dalam dataset. Agatha Christie menjadi yang paling produktif dengan lebih dari 600 judul buku. Ini menunjukkan bahwa karya-karya dari penulis populer sangat berpengaruh dan sering muncul dalam dataset."
      ],
      "metadata": {
        "id": "h2bSrKKoyNBy"
      }
    },
    {
      "cell_type": "markdown",
      "source": [
        "##### Cek Missing Values pada Dataset Books"
      ],
      "metadata": {
        "id": "vAiKwb17ynU6"
      }
    },
    {
      "cell_type": "code",
      "source": [
        "print(\"\\nJumlah missing values tiap kolom:\")\n",
        "print(books.isna().sum())"
      ],
      "metadata": {
        "colab": {
          "base_uri": "https://localhost:8080/"
        },
        "id": "rotjMsuCMeTR",
        "outputId": "a22aef6f-bc26-461b-a2b8-0df00f21da78"
      },
      "execution_count": null,
      "outputs": [
        {
          "output_type": "stream",
          "name": "stdout",
          "text": [
            "\n",
            "Jumlah missing values tiap kolom:\n",
            "ISBN                   0\n",
            "Book-Title             0\n",
            "Book-Author            2\n",
            "Year-Of-Publication    3\n",
            "Publisher              2\n",
            "Image-URL-S            0\n",
            "Image-URL-M            0\n",
            "Image-URL-L            3\n",
            "dtype: int64\n"
          ]
        }
      ]
    },
    {
      "cell_type": "markdown",
      "source": [
        "Insight: Beberapa kolom dalam dataset buku memiliki nilai yang hilang, meskipun jumlahnya relatif sedikit. Kolom Book-Author dan Publisher masing-masing kehilangan 2 entri, sedangkan Year-Of-Publication dan Image-URL-L kehilangan 3 entri."
      ],
      "metadata": {
        "id": "PNdPLMaPy4mb"
      }
    },
    {
      "cell_type": "markdown",
      "source": [
        "#### Ratings Variable"
      ],
      "metadata": {
        "id": "9OqnPtuhMlm0"
      }
    },
    {
      "cell_type": "markdown",
      "source": [
        "##### Menampilkan ringkasan struktur dataset ratings."
      ],
      "metadata": {
        "id": "e_iH9LhizFky"
      }
    },
    {
      "cell_type": "code",
      "source": [
        "print(\"Info dataset Ratings:\")\n",
        "print(ratings.info())"
      ],
      "metadata": {
        "colab": {
          "base_uri": "https://localhost:8080/"
        },
        "id": "3QGDm4-KNLkI",
        "outputId": "e8bda0f0-cf25-4a76-f904-ad0a2ed21d59"
      },
      "execution_count": null,
      "outputs": [
        {
          "output_type": "stream",
          "name": "stdout",
          "text": [
            "Info dataset Ratings:\n",
            "<class 'pandas.core.frame.DataFrame'>\n",
            "RangeIndex: 1149780 entries, 0 to 1149779\n",
            "Data columns (total 3 columns):\n",
            " #   Column       Non-Null Count    Dtype \n",
            "---  ------       --------------    ----- \n",
            " 0   User-ID      1149780 non-null  int64 \n",
            " 1   ISBN         1149780 non-null  object\n",
            " 2   Book-Rating  1149780 non-null  int64 \n",
            "dtypes: int64(2), object(1)\n",
            "memory usage: 26.3+ MB\n",
            "None\n"
          ]
        }
      ]
    },
    {
      "cell_type": "markdown",
      "source": [
        "Insight: Dataset ratings terdiri dari sekitar 1,15 juta entri dengan tiga kolom utama: User-ID, ISBN, dan Book-Rating. Semua kolom tidak memiliki nilai kosong, menunjukkan data lengkap untuk setiap interaksi pengguna dengan buku. Kolom User-ID dan Book-Rating bertipe numerik (int64), sedangkan ISBN bertipe objek, mencerminkan kode unik buku."
      ],
      "metadata": {
        "id": "0l77xoy-zZx5"
      }
    },
    {
      "cell_type": "markdown",
      "source": [
        "##### Meampilkan Statistik Data Ratings"
      ],
      "metadata": {
        "id": "sC0JA9VZzvpe"
      }
    },
    {
      "cell_type": "code",
      "source": [
        "print(f\"Jumlah data ratings: {len(ratings)}\")\n",
        "print(f\"Jumlah nilai unik rating: {ratings['Book-Rating'].nunique()}\")\n",
        "print(\"Frekuensi nilai rating (top 10):\")\n",
        "print(ratings['Book-Rating'].value_counts().head(10))"
      ],
      "metadata": {
        "colab": {
          "base_uri": "https://localhost:8080/"
        },
        "id": "Up6fbO1gNUkM",
        "outputId": "ebaad8ac-e83d-4476-a6cf-aa39262ab4cf"
      },
      "execution_count": null,
      "outputs": [
        {
          "output_type": "stream",
          "name": "stdout",
          "text": [
            "Jumlah data ratings: 1149780\n",
            "Jumlah nilai unik rating: 11\n",
            "Frekuensi nilai rating (top 10):\n",
            "Book-Rating\n",
            "0     716109\n",
            "8     103736\n",
            "10     78610\n",
            "7      76457\n",
            "9      67541\n",
            "5      50974\n",
            "6      36924\n",
            "4       8904\n",
            "3       5996\n",
            "2       2759\n",
            "Name: count, dtype: int64\n"
          ]
        }
      ]
    },
    {
      "cell_type": "markdown",
      "source": [
        "Insight: Distribusi rating menunjukkan bahwa nilai 0 mendominasi jumlah rating yang diberikan, yaitu sebanyak lebih dari 700 ribu, yang bisa mengindikasikan pengguna yang tidak memberikan penilaian atau interaksi minimal dengan buku. Rating dengan nilai 8 dan 10 juga cukup sering muncul, menunjukkan preferensi positif yang kuat terhadap beberapa buku. Sedangkan rating di bawah 5 memiliki frekuensi yang lebih rendah, menunjukkan bahwa pengguna cenderung memberikan rating tinggi atau tidak memberikan rating (0)."
      ],
      "metadata": {
        "id": "y9A1kvcMz_iA"
      }
    },
    {
      "cell_type": "markdown",
      "source": [
        "##### Visualisasi Distribusi Rating Buku"
      ],
      "metadata": {
        "id": "7LpgWBge0OGa"
      }
    },
    {
      "cell_type": "code",
      "source": [
        "plt.figure(figsize=(10,5))\n",
        "sns.countplot(x='Book-Rating', data=ratings, palette='coolwarm', order=sorted(ratings['Book-Rating'].unique()))\n",
        "plt.title('Distribusi Rating Buku')\n",
        "plt.xlabel('Book-Rating')\n",
        "plt.ylabel('Jumlah Rating')\n",
        "plt.show()"
      ],
      "metadata": {
        "colab": {
          "base_uri": "https://localhost:8080/",
          "height": 574
        },
        "id": "XRpG4UVHNouB",
        "outputId": "1710ae8c-dd34-4a8d-c9c1-5486cc285884"
      },
      "execution_count": null,
      "outputs": [
        {
          "output_type": "stream",
          "name": "stderr",
          "text": [
            "<ipython-input-16-a6dd282f471c>:2: FutureWarning: \n",
            "\n",
            "Passing `palette` without assigning `hue` is deprecated and will be removed in v0.14.0. Assign the `x` variable to `hue` and set `legend=False` for the same effect.\n",
            "\n",
            "  sns.countplot(x='Book-Rating', data=ratings, palette='coolwarm', order=sorted(ratings['Book-Rating'].unique()))\n"
          ]
        },
        {
          "output_type": "display_data",
          "data": {
            "text/plain": [
              "<Figure size 1000x500 with 1 Axes>"
            ],
            "image/png": "[encoded data removed]"
          },
          "metadata": {}
        }
      ]
    },
    {
      "cell_type": "markdown",
      "source": [
        "Insight: Distribusi rating buku menunjukkan bahwa sebagian besar interaksi pengguna berupa rating bernilai 0, yang mungkin mengindikasikan ketidaktertarikan atau rating default. Rating dengan nilai 8, 9, dan 10 juga cukup sering diberikan, menandakan bahwa pengguna cenderung memberikan penilaian positif pada buku yang mereka sukai. Rating rendah (1 hingga 4) jarang muncul, menunjukkan bahwa pengguna lebih sering memberikan rating tinggi atau tidak memberikan rating sama sekali."
      ],
      "metadata": {
        "id": "mfukEdn40bpF"
      }
    },
    {
      "cell_type": "markdown",
      "source": [
        "##### Cek Missing Values pada Dataset Ratings"
      ],
      "metadata": {
        "id": "sB_647Qs0oi_"
      }
    },
    {
      "cell_type": "code",
      "source": [
        "print(\"\\nJumlah missing values tiap kolom:\")\n",
        "print(ratings.isna().sum())"
      ],
      "metadata": {
        "colab": {
          "base_uri": "https://localhost:8080/"
        },
        "id": "bAA8LrmTNxJb",
        "outputId": "cc13d5c8-3e6c-485c-a8cc-74e425ee42d8"
      },
      "execution_count": null,
      "outputs": [
        {
          "output_type": "stream",
          "name": "stdout",
          "text": [
            "\n",
            "Jumlah missing values tiap kolom:\n",
            "User-ID        0\n",
            "ISBN           0\n",
            "Book-Rating    0\n",
            "dtype: int64\n"
          ]
        }
      ]
    },
    {
      "cell_type": "markdown",
      "source": [
        "Insight: Dataset ratings tidak memiliki missing value yang perlu ditangani."
      ],
      "metadata": {
        "id": "omH8NGSl0uFK"
      }
    },
    {
      "cell_type": "markdown",
      "source": [
        "#### Users Variable"
      ],
      "metadata": {
        "id": "unqZvJdSOCcD"
      }
    },
    {
      "cell_type": "markdown",
      "source": [
        "##### Menampilkan ringkasan struktur dataset users."
      ],
      "metadata": {
        "id": "6lmeWBsC1YAs"
      }
    },
    {
      "cell_type": "code",
      "source": [
        "print(\"Info dataset Users:\")\n",
        "print(users.info())"
      ],
      "metadata": {
        "colab": {
          "base_uri": "https://localhost:8080/"
        },
        "id": "QbSlClJmOEaE",
        "outputId": "bd3d4ca0-925d-40c1-9e27-a78c933f9151"
      },
      "execution_count": null,
      "outputs": [
        {
          "output_type": "stream",
          "name": "stdout",
          "text": [
            "Info dataset Users:\n",
            "<class 'pandas.core.frame.DataFrame'>\n",
            "RangeIndex: 278858 entries, 0 to 278857\n",
            "Data columns (total 3 columns):\n",
            " #   Column    Non-Null Count   Dtype  \n",
            "---  ------    --------------   -----  \n",
            " 0   User-ID   278858 non-null  int64  \n",
            " 1   Location  278858 non-null  object \n",
            " 2   Age       168096 non-null  float64\n",
            "dtypes: float64(1), int64(1), object(1)\n",
            "memory usage: 6.4+ MB\n",
            "None\n"
          ]
        }
      ]
    },
    {
      "cell_type": "markdown",
      "source": [
        "Insight: Dataset pengguna berisi sekitar 278 ribu entri dengan tiga kolom utama: User-ID, Location, dan Age. Kolom User-ID dan Location lengkap tanpa nilai kosong, sementara kolom Age memiliki sekitar 110 ribu nilai yang hilang, menunjukkan kebutuhan penanganan missing value pada usia pengguna."
      ],
      "metadata": {
        "id": "KxNOXCF71oYl"
      }
    },
    {
      "cell_type": "markdown",
      "source": [
        "##### Meampilkan Statistik Data Users"
      ],
      "metadata": {
        "id": "l0bf3vt42QRN"
      }
    },
    {
      "cell_type": "code",
      "source": [
        "print(f\"Total data users: {len(users)}\")\n",
        "\n",
        "for col in ['User-ID', 'Location']:\n",
        "    if col in users.columns:\n",
        "        print(f\"\\nKolom: {col}\")\n",
        "        print(f\"Jumlah nilai unik: {users[col].nunique()}\")\n",
        "        print(\"5 nilai teratas berdasarkan frekuensi:\")\n",
        "        print(users[col].value_counts().head())"
      ],
      "metadata": {
        "colab": {
          "base_uri": "https://localhost:8080/"
        },
        "id": "V5a7V0GUOKmh",
        "outputId": "5fc211bf-2a10-4d91-9d0f-82489e2a66e8"
      },
      "execution_count": null,
      "outputs": [
        {
          "output_type": "stream",
          "name": "stdout",
          "text": [
            "Total data users: 278858\n",
            "\n",
            "Kolom: User-ID\n",
            "Jumlah nilai unik: 278858\n",
            "5 nilai teratas berdasarkan frekuensi:\n",
            "User-ID\n",
            "278858    1\n",
            "1         1\n",
            "2         1\n",
            "3         1\n",
            "4         1\n",
            "Name: count, dtype: int64\n",
            "\n",
            "Kolom: Location\n",
            "Jumlah nilai unik: 57339\n",
            "5 nilai teratas berdasarkan frekuensi:\n",
            "Location\n",
            "london, england, united kingdom       2506\n",
            "toronto, ontario, canada              2250\n",
            "sydney, new south wales, australia    1744\n",
            "melbourne, victoria, australia        1708\n",
            "portland, oregon, usa                 1629\n",
            "Name: count, dtype: int64\n"
          ]
        }
      ]
    },
    {
      "cell_type": "markdown",
      "source": [
        "Insight: Dataset pengguna terdiri dari sekitar 278 ribu entri dengan setiap User-ID unik, menunjukkan bahwa setiap baris mewakili pengguna berbeda tanpa duplikasi. Kolom Location memiliki lebih dari 57 ribu nilai unik, mencerminkan keberagaman geografis yang sangat luas. Lokasi yang paling sering muncul adalah kota-kota besar dan populer seperti London, Toronto, Sydney, Melbourne, dan Portland, yang menunjukkan konsentrasi pengguna utama berada di wilayah perkotaan besar di berbagai negara."
      ],
      "metadata": {
        "id": "r7l1Wp7L23Fs"
      }
    },
    {
      "cell_type": "markdown",
      "source": [
        "##### Visualisasi Distribusi Users"
      ],
      "metadata": {
        "id": "RNC3YVBD28fz"
      }
    },
    {
      "cell_type": "code",
      "source": [
        "if 'Location' in users.columns:\n",
        "    plt.figure(figsize=(14,6))\n",
        "    top_locations = users['Location'].value_counts().head(10)\n",
        "    sns.barplot(x=top_locations.values, y=top_locations.index, palette='crest')\n",
        "    plt.title('10 Lokasi User Terbanyak')\n",
        "    plt.xlabel('Jumlah User')\n",
        "    plt.ylabel('Lokasi')\n",
        "    plt.show()"
      ],
      "metadata": {
        "colab": {
          "base_uri": "https://localhost:8080/",
          "height": 651
        },
        "id": "hUwm4Kv2OW-e",
        "outputId": "b86d1dcf-4e14-47f5-bd52-43d270a83c73"
      },
      "execution_count": null,
      "outputs": [
        {
          "output_type": "stream",
          "name": "stderr",
          "text": [
            "<ipython-input-20-d16b6a01b508>:4: FutureWarning: \n",
            "\n",
            "Passing `palette` without assigning `hue` is deprecated and will be removed in v0.14.0. Assign the `y` variable to `hue` and set `legend=False` for the same effect.\n",
            "\n",
            "  sns.barplot(x=top_locations.values, y=top_locations.index, palette='crest')\n"
          ]
        },
        {
          "output_type": "display_data",
          "data": {
            "text/plain": [
              "<Figure size 1400x600 with 1 Axes>"
            ],
            "image/png": "[encoded data removed]"
          },
          "metadata": {}
        }
      ]
    },
    {
      "cell_type": "markdown",
      "source": [
        "Insight: Visualisasi menunjukkan bahwa pengguna dalam dataset paling banyak berasal dari kota-kota besar di berbagai negara, dengan London, Inggris sebagai lokasi terbanyak, diikuti oleh Toronto (Kanada), Sydney dan Melbourne (Australia), serta beberapa kota besar di Amerika Serikat seperti Portland, Chicago, Seattle, dan New York. Keberadaan kota-kota besar ini sebagai pusat pengguna menunjukkan konsentrasi tinggi pada wilayah urban dan dapat memberikan gambaran demografis yang penting untuk personalisasi dan segmentasi dalam sistem rekomendasi."
      ],
      "metadata": {
        "id": "yBHoL0U53QDv"
      }
    },
    {
      "cell_type": "markdown",
      "source": [
        "##### Cek Missing Values pada Dataset Users"
      ],
      "metadata": {
        "id": "bMXlFzd83awA"
      }
    },
    {
      "cell_type": "code",
      "source": [
        "print(\"\\nJumlah missing values tiap kolom:\")\n",
        "print(users.isna().sum())"
      ],
      "metadata": {
        "colab": {
          "base_uri": "https://localhost:8080/"
        },
        "id": "T4V375NyOcUz",
        "outputId": "90751a91-7c4b-43d3-d3b9-dff65e7c9583"
      },
      "execution_count": null,
      "outputs": [
        {
          "output_type": "stream",
          "name": "stdout",
          "text": [
            "\n",
            "Jumlah missing values tiap kolom:\n",
            "User-ID          0\n",
            "Location         0\n",
            "Age         110762\n",
            "dtype: int64\n"
          ]
        }
      ]
    },
    {
      "cell_type": "markdown",
      "source": [
        "Insight: Sebagian besar data kolom Age pada dataset pengguna hilang, dengan sekitar 110 ribu nilai kosong, sedangkan kolom User-ID dan Location lengkap tanpa missing value."
      ],
      "metadata": {
        "id": "ju1vPWc-3xKt"
      }
    },
    {
      "cell_type": "markdown",
      "source": [
        "## Data Preparation"
      ],
      "metadata": {
        "id": "l4Ad70wOUelf"
      }
    },
    {
      "cell_type": "markdown",
      "source": [
        "### Menangani Missing Values"
      ],
      "metadata": {
        "id": "FF0CMdbXUhAN"
      }
    },
    {
      "cell_type": "markdown",
      "source": [
        "#### Menangani Missing Values pada Books Variable"
      ],
      "metadata": {
        "id": "HN1RhIHdhVp2"
      }
    },
    {
      "cell_type": "markdown",
      "source": [
        "##### Mengisi nilai kosong pada kolom `Book-Author` dan `Publisher` dengan label default 'Unknown Author' dan 'Unknown Publisher'"
      ],
      "metadata": {
        "id": "7oumkh_b4AY2"
      }
    },
    {
      "cell_type": "code",
      "source": [
        "books['Book-Author'] = books['Book-Author'].fillna('Unknown Author')\n",
        "books['Publisher'] = books['Publisher'].fillna('Unknown Publisher')"
      ],
      "metadata": {
        "id": "zntHOgk9g0fn"
      },
      "execution_count": null,
      "outputs": []
    },
    {
      "cell_type": "markdown",
      "source": [
        "##### Mengisi nilai kosong pada kolom `Year-Of-Publication` dengan nilai median tahun terbit"
      ],
      "metadata": {
        "id": "NVe3t4bA4PIy"
      }
    },
    {
      "cell_type": "code",
      "source": [
        "median_year = books['Year-Of-Publication'].median()\n",
        "books['Year-Of-Publication'] = books['Year-Of-Publication'].fillna(median_year).astype(int)"
      ],
      "metadata": {
        "id": "pi7Xtj2kg8LI"
      },
      "execution_count": null,
      "outputs": []
    },
    {
      "cell_type": "markdown",
      "source": [
        "##### Mengisi nilai kosong pada kolom `Image-URL-L` dengan teks 'No Image'"
      ],
      "metadata": {
        "id": "phWfHDiP4Zcb"
      }
    },
    {
      "cell_type": "code",
      "source": [
        "books['Image-URL-L'] = books['Image-URL-L'].fillna('No Image')"
      ],
      "metadata": {
        "id": "QGJjNclfhApy"
      },
      "execution_count": null,
      "outputs": []
    },
    {
      "cell_type": "markdown",
      "source": [
        "##### Mengecek kembali Missing Value"
      ],
      "metadata": {
        "id": "vJVlQQZr4cg_"
      }
    },
    {
      "cell_type": "code",
      "source": [
        "print(books.isna().sum())"
      ],
      "metadata": {
        "colab": {
          "base_uri": "https://localhost:8080/"
        },
        "id": "fqbmgvJBhEWJ",
        "outputId": "cb426c38-5a0d-4acc-aa76-f009928bfdbc"
      },
      "execution_count": null,
      "outputs": [
        {
          "output_type": "stream",
          "name": "stdout",
          "text": [
            "ISBN                   0\n",
            "Book-Title             0\n",
            "Book-Author            0\n",
            "Year-Of-Publication    0\n",
            "Publisher              0\n",
            "Image-URL-S            0\n",
            "Image-URL-M            0\n",
            "Image-URL-L            0\n",
            "dtype: int64\n"
          ]
        }
      ]
    },
    {
      "cell_type": "markdown",
      "source": [
        "Insight: Missing Value pada books variable berhasil diatasi."
      ],
      "metadata": {
        "id": "auu1gHXv4hsn"
      }
    },
    {
      "cell_type": "markdown",
      "source": [
        "#### Menangani Missing Values pada Ratings Variable"
      ],
      "metadata": {
        "id": "sZzhOXQnh4Hf"
      }
    },
    {
      "cell_type": "code",
      "source": [
        "print(\"Missing values di Ratings:\")\n",
        "print(ratings.isna().sum())"
      ],
      "metadata": {
        "colab": {
          "base_uri": "https://localhost:8080/"
        },
        "id": "E_XnBsgciBbM",
        "outputId": "dc85ce31-1d50-418f-de50-d471f6984db4"
      },
      "execution_count": null,
      "outputs": [
        {
          "output_type": "stream",
          "name": "stdout",
          "text": [
            "Missing values di Ratings:\n",
            "User-ID        0\n",
            "ISBN           0\n",
            "Book-Rating    0\n",
            "dtype: int64\n"
          ]
        }
      ]
    },
    {
      "cell_type": "markdown",
      "source": [
        "Insight: Variable Ratings tidak memiliki missing value."
      ],
      "metadata": {
        "id": "CE5KS5m24uIN"
      }
    },
    {
      "cell_type": "markdown",
      "source": [
        "#### Menangani Missing Values pada Users Variable"
      ],
      "metadata": {
        "id": "_Avy-H5UiO-f"
      }
    },
    {
      "cell_type": "markdown",
      "source": [
        "##### Mengisi nilai kosong pada kolom `Age` dengan nilai median usia pengguna"
      ],
      "metadata": {
        "id": "H8x4QScs5sEM"
      }
    },
    {
      "cell_type": "code",
      "source": [
        "median_age = users['Age'].median()\n",
        "users['Age'] = users['Age'].fillna(median_age).astype(int)"
      ],
      "metadata": {
        "id": "OEIC2cV5imFD"
      },
      "execution_count": null,
      "outputs": []
    },
    {
      "cell_type": "markdown",
      "source": [
        "##### Mengecek kembali missing value"
      ],
      "metadata": {
        "id": "TesOgk9q5upp"
      }
    },
    {
      "cell_type": "code",
      "source": [
        "print(users.isna().sum())"
      ],
      "metadata": {
        "colab": {
          "base_uri": "https://localhost:8080/"
        },
        "id": "3lzOftJ3iodI",
        "outputId": "1013530a-83bf-4112-e076-22819de908a6"
      },
      "execution_count": null,
      "outputs": [
        {
          "output_type": "stream",
          "name": "stdout",
          "text": [
            "User-ID     0\n",
            "Location    0\n",
            "Age         0\n",
            "dtype: int64\n"
          ]
        }
      ]
    },
    {
      "cell_type": "markdown",
      "source": [
        "Insight: Missing value pada users variable berhasil diatasi"
      ],
      "metadata": {
        "id": "HBpu22Ib5y_r"
      }
    },
    {
      "cell_type": "markdown",
      "source": [
        "### Memfilter dataset rating untuk hanya mengambil baris dengan nilai `Book-Rating` lebih dari 0"
      ],
      "metadata": {
        "id": "OQq1nppo84V3"
      }
    },
    {
      "cell_type": "code",
      "source": [
        "df = ratings[ratings['Book-Rating'] > 0][['User-ID', 'ISBN', 'Book-Rating']]"
      ],
      "metadata": {
        "id": "Uq7rfLW87pyl"
      },
      "execution_count": null,
      "outputs": []
    },
    {
      "cell_type": "markdown",
      "source": [
        "### Mendefinisikan skala rating dari 1 sampai 10 dan memuat dataset rating ke format yang sesuai"
      ],
      "metadata": {
        "id": "ZIr1vibh9C_5"
      }
    },
    {
      "cell_type": "code",
      "source": [
        "reader = Reader(rating_scale=(1, 10))\n",
        "data = Dataset.load_from_df(df, reader)"
      ],
      "metadata": {
        "id": "vwvcbBNF7yZm"
      },
      "execution_count": null,
      "outputs": []
    },
    {
      "cell_type": "markdown",
      "source": [
        "### Membagi Data Training dan Testing"
      ],
      "metadata": {
        "id": "HhlJwYVF9Mua"
      }
    },
    {
      "cell_type": "code",
      "metadata": {
        "id": "ad8dcbf8"
      },
      "source": [
        "trainset, testset = train_test_split(data, test_size=0.2, random_state=42)"
      ],
      "execution_count": null,
      "outputs": []
    },
    {
      "cell_type": "markdown",
      "source": [
        "## Model Development Collaborative Filtering dengan Algoritma SVD"
      ],
      "metadata": {
        "id": "ijuEiyziBCna"
      }
    },
    {
      "cell_type": "markdown",
      "source": [
        "### Membuat dan Melatih Model SVD"
      ],
      "metadata": {
        "id": "AG6Q9jpT9bPp"
      }
    },
    {
      "cell_type": "code",
      "source": [
        "model = SVD(n_factors=50, n_epochs=30, random_state=42)\n",
        "model.fit(trainset)"
      ],
      "metadata": {
        "colab": {
          "base_uri": "https://localhost:8080/"
        },
        "id": "Bt1ZD_Uvj-1s",
        "outputId": "ad08711b-3b53-4034-f87b-be68522d15ba"
      },
      "execution_count": null,
      "outputs": [
        {
          "output_type": "execute_result",
          "data": {
            "text/plain": [
              "<surprise.prediction_algorithms.matrix_factorization.SVD at 0x79296adfad90>"
            ]
          },
          "metadata": {},
          "execution_count": 32
        }
      ]
    },
    {
      "cell_type": "markdown",
      "source": [
        "### Membuat Fungsi Rekomendasi Buku untuk User"
      ],
      "metadata": {
        "id": "T9nI4k1Q9uY7"
      }
    },
    {
      "cell_type": "code",
      "source": [
        "def recommend_books_for_user(user_id, model, df, n=10):\n",
        "    all_books = df['ISBN'].unique()\n",
        "    books_rated_by_user = df[df['User-ID'] == user_id]['ISBN'].values\n",
        "    books_to_predict = [book for book in all_books if book not in books_rated_by_user]\n",
        "    predictions = [model.predict(user_id, book) for book in books_to_predict]\n",
        "    predictions.sort(key=lambda x: x.est, reverse=True)\n",
        "    top_preds = predictions[:n]\n",
        "    recommended_books = []\n",
        "    for pred in top_preds:\n",
        "        book_info_df = books[books['ISBN'] == pred.iid]\n",
        "        if not book_info_df.empty:\n",
        "            book_info = book_info_df.iloc[0]\n",
        "            recommended_books.append({\n",
        "                'ISBN': pred.iid,\n",
        "                'Book-Title': book_info['Book-Title'],\n",
        "                'Book-Author': book_info['Book-Author'],\n",
        "                'Estimated Rating': pred.est\n",
        "            })\n",
        "        else:\n",
        "            pass\n",
        "    return pd.DataFrame(recommended_books)"
      ],
      "metadata": {
        "id": "tBJ8w_pYlR7X"
      },
      "execution_count": null,
      "outputs": []
    },
    {
      "cell_type": "markdown",
      "source": [
        "### Menguji Sistem Rekomendasi untuk User"
      ],
      "metadata": {
        "id": "66tOc4wA95KB"
      }
    },
    {
      "cell_type": "code",
      "source": [
        "user_id = 276772  # ganti ID dan run untuk mendapat rekomendasi\n",
        "\n",
        "books_read_by_user = df[df['User-ID'] == user_id].merge(books[['ISBN', 'Book-Title', 'Book-Author']], on='ISBN')\n",
        "\n",
        "print(f\"Books read by User-ID {user_id}:\")\n",
        "if not books_read_by_user.empty:\n",
        "    display(books_read_by_user[['Book-Title', 'Book-Author', 'Book-Rating']])\n",
        "else:\n",
        "    print(\"This user has not rated any books.\")\n",
        "\n",
        "recommendations = recommend_books_for_user(user_id, model, df, n=10)\n",
        "\n",
        "print(f\"\\nRecommended books for User-ID {user_id}:\")\n",
        "if not recommendations.empty:\n",
        "    display(recommendations)\n",
        "else:\n",
        "    print(\"No recommendations found for this user.\")"
      ],
      "metadata": {
        "colab": {
          "base_uri": "https://localhost:8080/",
          "height": 479
        },
        "id": "8RQtXNkIlTQE",
        "outputId": "c4cb1bbb-880c-4b2a-d425-38a295bfb18d"
      },
      "execution_count": null,
      "outputs": [
        {
          "output_type": "stream",
          "name": "stdout",
          "text": [
            "Books read by User-ID 276772:\n"
          ]
        },
        {
          "output_type": "display_data",
          "data": {
            "text/plain": [
              "                                     Book-Title                Book-Author  \\\n",
              "0  Pay Dirt (Mrs. Murphy Mysteries (Paperback))             RITA MAE BROWN   \n",
              "1                           Adressat unbekannt.  Kathrine Kressmann Taylor   \n",
              "2                               Henry der Held.                Roddy Doyle   \n",
              "\n",
              "   Book-Rating  \n",
              "0            7  \n",
              "1           10  \n",
              "2           10  "
            ],
            "text/html": [
              "\n",
              "  <div id=\"df-c39202bc-4702-4c86-87d0-925e513ebf88\" class=\"colab-df-container\">\n",
              "    <div>\n",
              "<style scoped>\n",
              "    .dataframe tbody tr th:only-of-type {\n",
              "        vertical-align: middle;\n",
              "    }\n",
              "\n",
              "    .dataframe tbody tr th {\n",
              "        vertical-align: top;\n",
              "    }\n",
              "\n",
              "    .dataframe thead th {\n",
              "        text-align: right;\n",
              "    }\n",
              "</style>\n",
              "<table border=\"1\" class=\"dataframe\">\n",
              "  <thead>\n",
              "    <tr style=\"text-align: right;\">\n",
              "      <th></th>\n",
              "      <th>Book-Title</th>\n",
              "      <th>Book-Author</th>\n",
              "      <th>Book-Rating</th>\n",
              "    </tr>\n",
              "  </thead>\n",
              "  <tbody>\n",
              "    <tr>\n",
              "      <th>0</th>\n",
              "      <td>Pay Dirt (Mrs. Murphy Mysteries (Paperback))</td>\n",
              "      <td>RITA MAE BROWN</td>\n",
              "      <td>7</td>\n",
              "    </tr>\n",
              "    <tr>\n",
              "      <th>1</th>\n",
              "      <td>Adressat unbekannt.</td>\n",
              "      <td>Kathrine Kressmann Taylor</td>\n",
              "      <td>10</td>\n",
              "    </tr>\n",
              "    <tr>\n",
              "      <th>2</th>\n",
              "      <td>Henry der Held.</td>\n",
              "      <td>Roddy Doyle</td>\n",
              "      <td>10</td>\n",
              "    </tr>\n",
              "  </tbody>\n",
              "</table>\n",
              "</div>\n",
              "    <div class=\"colab-df-buttons\">\n",
              "\n",
              "  <div class=\"colab-df-container\">\n",
              "    <button class=\"colab-df-convert\" onclick=\"convertToInteractive('df-c39202bc-4702-4c86-87d0-925e513ebf88')\"\n",
              "            title=\"Convert this dataframe to an interactive table.\"\n",
              "            style=\"display:none;\">\n",
              "\n",
              "  <svg xmlns=\"http://www.w3.org/2000/svg\" height=\"24px\" viewBox=\"0 -960 960 960\">\n",
              "    <path d=\"M120-120v-720h720v720H120Zm60-500h600v-160H180v160Zm220 220h160v-160H400v160Zm0 220h160v-160H400v160ZM180-400h160v-160H180v160Zm440 0h160v-160H620v160ZM180-180h160v-160H180v160Zm440 0h160v-160H620v160Z\"/>\n",
              "  </svg>\n",
              "    </button>\n",
              "\n",
              "  <style>\n",
              "    .colab-df-container {\n",
              "      display:flex;\n",
              "      gap: 12px;\n",
              "    }\n",
              "\n",
              "    .colab-df-convert {\n",
              "      background-color: #E8F0FE;\n",
              "      border: none;\n",
              "      border-radius: 50%;\n",
              "      cursor: pointer;\n",
              "      display: none;\n",
              "      fill: #1967D2;\n",
              "      height: 32px;\n",
              "      padding: 0 0 0 0;\n",
              "      width: 32px;\n",
              "    }\n",
              "\n",
              "    .colab-df-convert:hover {\n",
              "      background-color: #E2EBFA;\n",
              "      box-shadow: 0px 1px 2px rgba(60, 64, 67, 0.3), 0px 1px 3px 1px rgba(60, 64, 67, 0.15);\n",
              "      fill: #174EA6;\n",
              "    }\n",
              "\n",
              "    .colab-df-buttons div {\n",
              "      margin-bottom: 4px;\n",
              "    }\n",
              "\n",
              "    [theme=dark] .colab-df-convert {\n",
              "      background-color: #3B4455;\n",
              "      fill: #D2E3FC;\n",
              "    }\n",
              "\n",
              "    [theme=dark] .colab-df-convert:hover {\n",
              "      background-color: #434B5C;\n",
              "      box-shadow: 0px 1px 3px 1px rgba(0, 0, 0, 0.15);\n",
              "      filter: drop-shadow(0px 1px 2px rgba(0, 0, 0, 0.3));\n",
              "      fill: #FFFFFF;\n",
              "    }\n",
              "  </style>\n",
              "\n",
              "    <script>\n",
              "      const buttonEl =\n",
              "        document.querySelector('#df-c39202bc-4702-4c86-87d0-925e513ebf88 button.colab-df-convert');\n",
              "      buttonEl.style.display =\n",
              "        google.colab.kernel.accessAllowed ? 'block' : 'none';\n",
              "\n",
              "      async function convertToInteractive(key) {\n",
              "        const element = document.querySelector('#df-c39202bc-4702-4c86-87d0-925e513ebf88');\n",
              "        const dataTable =\n",
              "          await google.colab.kernel.invokeFunction('convertToInteractive',\n",
              "                                                    [key], {});\n",
              "        if (!dataTable) return;\n",
              "\n",
              "        const docLinkHtml = 'Like what you see? Visit the ' +\n",
              "          '<a target=\"_blank\" href=https://colab.research.google.com/notebooks/data_table.ipynb>data table notebook</a>'\n",
              "          + ' to learn more about interactive tables.';\n",
              "        element.innerHTML = '';\n",
              "        dataTable['output_type'] = 'display_data';\n",
              "        await google.colab.output.renderOutput(dataTable, element);\n",
              "        const docLink = document.createElement('div');\n",
              "        docLink.innerHTML = docLinkHtml;\n",
              "        element.appendChild(docLink);\n",
              "      }\n",
              "    </script>\n",
              "  </div>\n",
              "\n",
              "\n",
              "    <div id=\"df-d62a278a-4fca-4403-ae36-99a40fc75ddc\">\n",
              "      <button class=\"colab-df-quickchart\" onclick=\"quickchart('df-d62a278a-4fca-4403-ae36-99a40fc75ddc')\"\n",
              "                title=\"Suggest charts\"\n",
              "                style=\"display:none;\">\n",
              "\n",
              "<svg xmlns=\"http://www.w3.org/2000/svg\" height=\"24px\"viewBox=\"0 0 24 24\"\n",
              "     width=\"24px\">\n",
              "    <g>\n",
              "        <path d=\"M19 3H5c-1.1 0-2 .9-2 2v14c0 1.1.9 2 2 2h14c1.1 0 2-.9 2-2V5c0-1.1-.9-2-2-2zM9 17H7v-7h2v7zm4 0h-2V7h2v10zm4 0h-2v-4h2v4z\"/>\n",
              "    </g>\n",
              "</svg>\n",
              "      </button>\n",
              "\n",
              "<style>\n",
              "  .colab-df-quickchart {\n",
              "      --bg-color: #E8F0FE;\n",
              "      --fill-color: #1967D2;\n",
              "      --hover-bg-color: #E2EBFA;\n",
              "      --hover-fill-color: #174EA6;\n",
              "      --disabled-fill-color: #AAA;\n",
              "      --disabled-bg-color: #DDD;\n",
              "  }\n",
              "\n",
              "  [theme=dark] .colab-df-quickchart {\n",
              "      --bg-color: #3B4455;\n",
              "      --fill-color: #D2E3FC;\n",
              "      --hover-bg-color: #434B5C;\n",
              "      --hover-fill-color: #FFFFFF;\n",
              "      --disabled-bg-color: #3B4455;\n",
              "      --disabled-fill-color: #666;\n",
              "  }\n",
              "\n",
              "  .colab-df-quickchart {\n",
              "    background-color: var(--bg-color);\n",
              "    border: none;\n",
              "    border-radius: 50%;\n",
              "    cursor: pointer;\n",
              "    display: none;\n",
              "    fill: var(--fill-color);\n",
              "    height: 32px;\n",
              "    padding: 0;\n",
              "    width: 32px;\n",
              "  }\n",
              "\n",
              "  .colab-df-quickchart:hover {\n",
              "    background-color: var(--hover-bg-color);\n",
              "    box-shadow: 0 1px 2px rgba(60, 64, 67, 0.3), 0 1px 3px 1px rgba(60, 64, 67, 0.15);\n",
              "    fill: var(--button-hover-fill-color);\n",
              "  }\n",
              "\n",
              "  .colab-df-quickchart-complete:disabled,\n",
              "  .colab-df-quickchart-complete:disabled:hover {\n",
              "    background-color: var(--disabled-bg-color);\n",
              "    fill: var(--disabled-fill-color);\n",
              "    box-shadow: none;\n",
              "  }\n",
              "\n",
              "  .colab-df-spinner {\n",
              "    border: 2px solid var(--fill-color);\n",
              "    border-color: transparent;\n",
              "    border-bottom-color: var(--fill-color);\n",
              "    animation:\n",
              "      spin 1s steps(1) infinite;\n",
              "  }\n",
              "\n",
              "  @keyframes spin {\n",
              "    0% {\n",
              "      border-color: transparent;\n",
              "      border-bottom-color: var(--fill-color);\n",
              "      border-left-color: var(--fill-color);\n",
              "    }\n",
              "    20% {\n",
              "      border-color: transparent;\n",
              "      border-left-color: var(--fill-color);\n",
              "      border-top-color: var(--fill-color);\n",
              "    }\n",
              "    30% {\n",
              "      border-color: transparent;\n",
              "      border-left-color: var(--fill-color);\n",
              "      border-top-color: var(--fill-color);\n",
              "      border-right-color: var(--fill-color);\n",
              "    }\n",
              "    40% {\n",
              "      border-color: transparent;\n",
              "      border-right-color: var(--fill-color);\n",
              "      border-top-color: var(--fill-color);\n",
              "    }\n",
              "    60% {\n",
              "      border-color: transparent;\n",
              "      border-right-color: var(--fill-color);\n",
              "    }\n",
              "    80% {\n",
              "      border-color: transparent;\n",
              "      border-right-color: var(--fill-color);\n",
              "      border-bottom-color: var(--fill-color);\n",
              "    }\n",
              "    90% {\n",
              "      border-color: transparent;\n",
              "      border-bottom-color: var(--fill-color);\n",
              "    }\n",
              "  }\n",
              "</style>\n",
              "\n",
              "      <script>\n",
              "        async function quickchart(key) {\n",
              "          const quickchartButtonEl =\n",
              "            document.querySelector('#' + key + ' button');\n",
              "          quickchartButtonEl.disabled = true;  // To prevent multiple clicks.\n",
              "          quickchartButtonEl.classList.add('colab-df-spinner');\n",
              "          try {\n",
              "            const charts = await google.colab.kernel.invokeFunction(\n",
              "                'suggestCharts', [key], {});\n",
              "          } catch (error) {\n",
              "            console.error('Error during call to suggestCharts:', error);\n",
              "          }\n",
              "          quickchartButtonEl.classList.remove('colab-df-spinner');\n",
              "          quickchartButtonEl.classList.add('colab-df-quickchart-complete');\n",
              "        }\n",
              "        (() => {\n",
              "          let quickchartButtonEl =\n",
              "            document.querySelector('#df-d62a278a-4fca-4403-ae36-99a40fc75ddc button');\n",
              "          quickchartButtonEl.style.display =\n",
              "            google.colab.kernel.accessAllowed ? 'block' : 'none';\n",
              "        })();\n",
              "      </script>\n",
              "    </div>\n",
              "\n",
              "    </div>\n",
              "  </div>\n"
            ],
            "application/vnd.google.colaboratory.intrinsic+json": {
              "type": "dataframe",
              "summary": "{\n  \"name\": \"    print(\\\"No recommendations found for this user\",\n  \"rows\": 3,\n  \"fields\": [\n    {\n      \"column\": \"Book-Title\",\n      \"properties\": {\n        \"dtype\": \"string\",\n        \"num_unique_values\": 3,\n        \"samples\": [\n          \"Pay Dirt (Mrs. Murphy Mysteries (Paperback))\",\n          \"Adressat unbekannt.\",\n          \"Henry der Held.\"\n        ],\n        \"semantic_type\": \"\",\n        \"description\": \"\"\n      }\n    },\n    {\n      \"column\": \"Book-Author\",\n      \"properties\": {\n        \"dtype\": \"string\",\n        \"num_unique_values\": 3,\n        \"samples\": [\n          \"RITA MAE BROWN\",\n          \"Kathrine Kressmann Taylor\",\n          \"Roddy Doyle\"\n        ],\n        \"semantic_type\": \"\",\n        \"description\": \"\"\n      }\n    },\n    {\n      \"column\": \"Book-Rating\",\n      \"properties\": {\n        \"dtype\": \"number\",\n        \"std\": 1,\n        \"min\": 7,\n        \"max\": 10,\n        \"num_unique_values\": 2,\n        \"samples\": [\n          10,\n          7\n        ],\n        \"semantic_type\": \"\",\n        \"description\": \"\"\n      }\n    }\n  ]\n}"
            }
          },
          "metadata": {}
        },
        {
          "output_type": "stream",
          "name": "stdout",
          "text": [
            "\n",
            "Recommended books for User-ID 276772:\n"
          ]
        },
        {
          "output_type": "display_data",
          "data": {
            "text/plain": [
              "         ISBN                                         Book-Title  \\\n",
              "0  0811824829    52 Deck Series: 52 Ways to Celebrate Friendship   \n",
              "1  0743454529       My Sister's Keeper : A Novel (Picoult, Jodi)   \n",
              "2  0385504209                                  The Da Vinci Code   \n",
              "3  0441172717                        Dune (Remembering Tomorrow)   \n",
              "4  0439136369  Harry Potter and the Prisoner of Azkaban (Book 3)   \n",
              "5  0836213319                       Dilbert: A Book of Postcards   \n",
              "6  1880418568       Wolves of the Calla (The Dark Tower, Book 5)   \n",
              "7  0316779059  The Baby Book: Everything You Need to Know Abo...   \n",
              "\n",
              "     Book-Author  Estimated Rating  \n",
              "0    Lynn Gordon          9.766852  \n",
              "1   Jodi Picoult          9.746502  \n",
              "2      Dan Brown          9.721862  \n",
              "3  Frank Herbert          9.667607  \n",
              "4  J. K. Rowling          9.656759  \n",
              "5    Scott Adams          9.652009  \n",
              "6   Stephen King          9.600803  \n",
              "7   Martha Sears          9.549683  "
            ],
            "text/html": [
              "\n",
              "  <div id=\"df-ed7d3da6-7574-4777-918a-f27968b8294f\" class=\"colab-df-container\">\n",
              "    <div>\n",
              "<style scoped>\n",
              "    .dataframe tbody tr th:only-of-type {\n",
              "        vertical-align: middle;\n",
              "    }\n",
              "\n",
              "    .dataframe tbody tr th {\n",
              "        vertical-align: top;\n",
              "    }\n",
              "\n",
              "    .dataframe thead th {\n",
              "        text-align: right;\n",
              "    }\n",
              "</style>\n",
              "<table border=\"1\" class=\"dataframe\">\n",
              "  <thead>\n",
              "    <tr style=\"text-align: right;\">\n",
              "      <th></th>\n",
              "      <th>ISBN</th>\n",
              "      <th>Book-Title</th>\n",
              "      <th>Book-Author</th>\n",
              "      <th>Estimated Rating</th>\n",
              "    </tr>\n",
              "  </thead>\n",
              "  <tbody>\n",
              "    <tr>\n",
              "      <th>0</th>\n",
              "      <td>0811824829</td>\n",
              "      <td>52 Deck Series: 52 Ways to Celebrate Friendship</td>\n",
              "      <td>Lynn Gordon</td>\n",
              "      <td>9.766852</td>\n",
              "    </tr>\n",
              "    <tr>\n",
              "      <th>1</th>\n",
              "      <td>0743454529</td>\n",
              "      <td>My Sister's Keeper : A Novel (Picoult, Jodi)</td>\n",
              "      <td>Jodi Picoult</td>\n",
              "      <td>9.746502</td>\n",
              "    </tr>\n",
              "    <tr>\n",
              "      <th>2</th>\n",
              "      <td>0385504209</td>\n",
              "      <td>The Da Vinci Code</td>\n",
              "      <td>Dan Brown</td>\n",
              "      <td>9.721862</td>\n",
              "    </tr>\n",
              "    <tr>\n",
              "      <th>3</th>\n",
              "      <td>0441172717</td>\n",
              "      <td>Dune (Remembering Tomorrow)</td>\n",
              "      <td>Frank Herbert</td>\n",
              "      <td>9.667607</td>\n",
              "    </tr>\n",
              "    <tr>\n",
              "      <th>4</th>\n",
              "      <td>0439136369</td>\n",
              "      <td>Harry Potter and the Prisoner of Azkaban (Book 3)</td>\n",
              "      <td>J. K. Rowling</td>\n",
              "      <td>9.656759</td>\n",
              "    </tr>\n",
              "    <tr>\n",
              "      <th>5</th>\n",
              "      <td>0836213319</td>\n",
              "      <td>Dilbert: A Book of Postcards</td>\n",
              "      <td>Scott Adams</td>\n",
              "      <td>9.652009</td>\n",
              "    </tr>\n",
              "    <tr>\n",
              "      <th>6</th>\n",
              "      <td>1880418568</td>\n",
              "      <td>Wolves of the Calla (The Dark Tower, Book 5)</td>\n",
              "      <td>Stephen King</td>\n",
              "      <td>9.600803</td>\n",
              "    </tr>\n",
              "    <tr>\n",
              "      <th>7</th>\n",
              "      <td>0316779059</td>\n",
              "      <td>The Baby Book: Everything You Need to Know Abo...</td>\n",
              "      <td>Martha Sears</td>\n",
              "      <td>9.549683</td>\n",
              "    </tr>\n",
              "  </tbody>\n",
              "</table>\n",
              "</div>\n",
              "    <div class=\"colab-df-buttons\">\n",
              "\n",
              "  <div class=\"colab-df-container\">\n",
              "    <button class=\"colab-df-convert\" onclick=\"convertToInteractive('df-ed7d3da6-7574-4777-918a-f27968b8294f')\"\n",
              "            title=\"Convert this dataframe to an interactive table.\"\n",
              "            style=\"display:none;\">\n",
              "\n",
              "  <svg xmlns=\"http://www.w3.org/2000/svg\" height=\"24px\" viewBox=\"0 -960 960 960\">\n",
              "    <path d=\"M120-120v-720h720v720H120Zm60-500h600v-160H180v160Zm220 220h160v-160H400v160Zm0 220h160v-160H400v160ZM180-400h160v-160H180v160Zm440 0h160v-160H620v160ZM180-180h160v-160H180v160Zm440 0h160v-160H620v160Z\"/>\n",
              "  </svg>\n",
              "    </button>\n",
              "\n",
              "  <style>\n",
              "    .colab-df-container {\n",
              "      display:flex;\n",
              "      gap: 12px;\n",
              "    }\n",
              "\n",
              "    .colab-df-convert {\n",
              "      background-color: #E8F0FE;\n",
              "      border: none;\n",
              "      border-radius: 50%;\n",
              "      cursor: pointer;\n",
              "      display: none;\n",
              "      fill: #1967D2;\n",
              "      height: 32px;\n",
              "      padding: 0 0 0 0;\n",
              "      width: 32px;\n",
              "    }\n",
              "\n",
              "    .colab-df-convert:hover {\n",
              "      background-color: #E2EBFA;\n",
              "      box-shadow: 0px 1px 2px rgba(60, 64, 67, 0.3), 0px 1px 3px 1px rgba(60, 64, 67, 0.15);\n",
              "      fill: #174EA6;\n",
              "    }\n",
              "\n",
              "    .colab-df-buttons div {\n",
              "      margin-bottom: 4px;\n",
              "    }\n",
              "\n",
              "    [theme=dark] .colab-df-convert {\n",
              "      background-color: #3B4455;\n",
              "      fill: #D2E3FC;\n",
              "    }\n",
              "\n",
              "    [theme=dark] .colab-df-convert:hover {\n",
              "      background-color: #434B5C;\n",
              "      box-shadow: 0px 1px 3px 1px rgba(0, 0, 0, 0.15);\n",
              "      filter: drop-shadow(0px 1px 2px rgba(0, 0, 0, 0.3));\n",
              "      fill: #FFFFFF;\n",
              "    }\n",
              "  </style>\n",
              "\n",
              "    <script>\n",
              "      const buttonEl =\n",
              "        document.querySelector('#df-ed7d3da6-7574-4777-918a-f27968b8294f button.colab-df-convert');\n",
              "      buttonEl.style.display =\n",
              "        google.colab.kernel.accessAllowed ? 'block' : 'none';\n",
              "\n",
              "      async function convertToInteractive(key) {\n",
              "        const element = document.querySelector('#df-ed7d3da6-7574-4777-918a-f27968b8294f');\n",
              "        const dataTable =\n",
              "          await google.colab.kernel.invokeFunction('convertToInteractive',\n",
              "                                                    [key], {});\n",
              "        if (!dataTable) return;\n",
              "\n",
              "        const docLinkHtml = 'Like what you see? Visit the ' +\n",
              "          '<a target=\"_blank\" href=https://colab.research.google.com/notebooks/data_table.ipynb>data table notebook</a>'\n",
              "          + ' to learn more about interactive tables.';\n",
              "        element.innerHTML = '';\n",
              "        dataTable['output_type'] = 'display_data';\n",
              "        await google.colab.output.renderOutput(dataTable, element);\n",
              "        const docLink = document.createElement('div');\n",
              "        docLink.innerHTML = docLinkHtml;\n",
              "        element.appendChild(docLink);\n",
              "      }\n",
              "    </script>\n",
              "  </div>\n",
              "\n",
              "\n",
              "    <div id=\"df-c9dfb81d-541a-423d-bd45-38bebe2d2eba\">\n",
              "      <button class=\"colab-df-quickchart\" onclick=\"quickchart('df-c9dfb81d-541a-423d-bd45-38bebe2d2eba')\"\n",
              "                title=\"Suggest charts\"\n",
              "                style=\"display:none;\">\n",
              "\n",
              "<svg xmlns=\"http://www.w3.org/2000/svg\" height=\"24px\"viewBox=\"0 0 24 24\"\n",
              "     width=\"24px\">\n",
              "    <g>\n",
              "        <path d=\"M19 3H5c-1.1 0-2 .9-2 2v14c0 1.1.9 2 2 2h14c1.1 0 2-.9 2-2V5c0-1.1-.9-2-2-2zM9 17H7v-7h2v7zm4 0h-2V7h2v10zm4 0h-2v-4h2v4z\"/>\n",
              "    </g>\n",
              "</svg>\n",
              "      </button>\n",
              "\n",
              "<style>\n",
              "  .colab-df-quickchart {\n",
              "      --bg-color: #E8F0FE;\n",
              "      --fill-color: #1967D2;\n",
              "      --hover-bg-color: #E2EBFA;\n",
              "      --hover-fill-color: #174EA6;\n",
              "      --disabled-fill-color: #AAA;\n",
              "      --disabled-bg-color: #DDD;\n",
              "  }\n",
              "\n",
              "  [theme=dark] .colab-df-quickchart {\n",
              "      --bg-color: #3B4455;\n",
              "      --fill-color: #D2E3FC;\n",
              "      --hover-bg-color: #434B5C;\n",
              "      --hover-fill-color: #FFFFFF;\n",
              "      --disabled-bg-color: #3B4455;\n",
              "      --disabled-fill-color: #666;\n",
              "  }\n",
              "\n",
              "  .colab-df-quickchart {\n",
              "    background-color: var(--bg-color);\n",
              "    border: none;\n",
              "    border-radius: 50%;\n",
              "    cursor: pointer;\n",
              "    display: none;\n",
              "    fill: var(--fill-color);\n",
              "    height: 32px;\n",
              "    padding: 0;\n",
              "    width: 32px;\n",
              "  }\n",
              "\n",
              "  .colab-df-quickchart:hover {\n",
              "    background-color: var(--hover-bg-color);\n",
              "    box-shadow: 0 1px 2px rgba(60, 64, 67, 0.3), 0 1px 3px 1px rgba(60, 64, 67, 0.15);\n",
              "    fill: var(--button-hover-fill-color);\n",
              "  }\n",
              "\n",
              "  .colab-df-quickchart-complete:disabled,\n",
              "  .colab-df-quickchart-complete:disabled:hover {\n",
              "    background-color: var(--disabled-bg-color);\n",
              "    fill: var(--disabled-fill-color);\n",
              "    box-shadow: none;\n",
              "  }\n",
              "\n",
              "  .colab-df-spinner {\n",
              "    border: 2px solid var(--fill-color);\n",
              "    border-color: transparent;\n",
              "    border-bottom-color: var(--fill-color);\n",
              "    animation:\n",
              "      spin 1s steps(1) infinite;\n",
              "  }\n",
              "\n",
              "  @keyframes spin {\n",
              "    0% {\n",
              "      border-color: transparent;\n",
              "      border-bottom-color: var(--fill-color);\n",
              "      border-left-color: var(--fill-color);\n",
              "    }\n",
              "    20% {\n",
              "      border-color: transparent;\n",
              "      border-left-color: var(--fill-color);\n",
              "      border-top-color: var(--fill-color);\n",
              "    }\n",
              "    30% {\n",
              "      border-color: transparent;\n",
              "      border-left-color: var(--fill-color);\n",
              "      border-top-color: var(--fill-color);\n",
              "      border-right-color: var(--fill-color);\n",
              "    }\n",
              "    40% {\n",
              "      border-color: transparent;\n",
              "      border-right-color: var(--fill-color);\n",
              "      border-top-color: var(--fill-color);\n",
              "    }\n",
              "    60% {\n",
              "      border-color: transparent;\n",
              "      border-right-color: var(--fill-color);\n",
              "    }\n",
              "    80% {\n",
              "      border-color: transparent;\n",
              "      border-right-color: var(--fill-color);\n",
              "      border-bottom-color: var(--fill-color);\n",
              "    }\n",
              "    90% {\n",
              "      border-color: transparent;\n",
              "      border-bottom-color: var(--fill-color);\n",
              "    }\n",
              "  }\n",
              "</style>\n",
              "\n",
              "      <script>\n",
              "        async function quickchart(key) {\n",
              "          const quickchartButtonEl =\n",
              "            document.querySelector('#' + key + ' button');\n",
              "          quickchartButtonEl.disabled = true;  // To prevent multiple clicks.\n",
              "          quickchartButtonEl.classList.add('colab-df-spinner');\n",
              "          try {\n",
              "            const charts = await google.colab.kernel.invokeFunction(\n",
              "                'suggestCharts', [key], {});\n",
              "          } catch (error) {\n",
              "            console.error('Error during call to suggestCharts:', error);\n",
              "          }\n",
              "          quickchartButtonEl.classList.remove('colab-df-spinner');\n",
              "          quickchartButtonEl.classList.add('colab-df-quickchart-complete');\n",
              "        }\n",
              "        (() => {\n",
              "          let quickchartButtonEl =\n",
              "            document.querySelector('#df-c9dfb81d-541a-423d-bd45-38bebe2d2eba button');\n",
              "          quickchartButtonEl.style.display =\n",
              "            google.colab.kernel.accessAllowed ? 'block' : 'none';\n",
              "        })();\n",
              "      </script>\n",
              "    </div>\n",
              "\n",
              "  <div id=\"id_5a88782b-014c-4108-ae54-dbc3d47426d4\">\n",
              "    <style>\n",
              "      .colab-df-generate {\n",
              "        background-color: #E8F0FE;\n",
              "        border: none;\n",
              "        border-radius: 50%;\n",
              "        cursor: pointer;\n",
              "        display: none;\n",
              "        fill: #1967D2;\n",
              "        height: 32px;\n",
              "        padding: 0 0 0 0;\n",
              "        width: 32px;\n",
              "      }\n",
              "\n",
              "      .colab-df-generate:hover {\n",
              "        background-color: #E2EBFA;\n",
              "        box-shadow: 0px 1px 2px rgba(60, 64, 67, 0.3), 0px 1px 3px 1px rgba(60, 64, 67, 0.15);\n",
              "        fill: #174EA6;\n",
              "      }\n",
              "\n",
              "      [theme=dark] .colab-df-generate {\n",
              "        background-color: #3B4455;\n",
              "        fill: #D2E3FC;\n",
              "      }\n",
              "\n",
              "      [theme=dark] .colab-df-generate:hover {\n",
              "        background-color: #434B5C;\n",
              "        box-shadow: 0px 1px 3px 1px rgba(0, 0, 0, 0.15);\n",
              "        filter: drop-shadow(0px 1px 2px rgba(0, 0, 0, 0.3));\n",
              "        fill: #FFFFFF;\n",
              "      }\n",
              "    </style>\n",
              "    <button class=\"colab-df-generate\" onclick=\"generateWithVariable('recommendations')\"\n",
              "            title=\"Generate code using this dataframe.\"\n",
              "            style=\"display:none;\">\n",
              "\n",
              "  <svg xmlns=\"http://www.w3.org/2000/svg\" height=\"24px\"viewBox=\"0 0 24 24\"\n",
              "       width=\"24px\">\n",
              "    <path d=\"M7,19H8.4L18.45,9,17,7.55,7,17.6ZM5,21V16.75L18.45,3.32a2,2,0,0,1,2.83,0l1.4,1.43a1.91,1.91,0,0,1,.58,1.4,1.91,1.91,0,0,1-.58,1.4L9.25,21ZM18.45,9,17,7.55Zm-12,3A5.31,5.31,0,0,0,4.9,8.1,5.31,5.31,0,0,0,1,6.5,5.31,5.31,0,0,0,4.9,4.9,5.31,5.31,0,0,0,6.5,1,5.31,5.31,0,0,0,8.1,4.9,5.31,5.31,0,0,0,12,6.5,5.46,5.46,0,0,0,6.5,12Z\"/>\n",
              "  </svg>\n",
              "    </button>\n",
              "    <script>\n",
              "      (() => {\n",
              "      const buttonEl =\n",
              "        document.querySelector('#id_5a88782b-014c-4108-ae54-dbc3d47426d4 button.colab-df-generate');\n",
              "      buttonEl.style.display =\n",
              "        google.colab.kernel.accessAllowed ? 'block' : 'none';\n",
              "\n",
              "      buttonEl.onclick = () => {\n",
              "        google.colab.notebook.generateWithVariable('recommendations');\n",
              "      }\n",
              "      })();\n",
              "    </script>\n",
              "  </div>\n",
              "\n",
              "    </div>\n",
              "  </div>\n"
            ],
            "application/vnd.google.colaboratory.intrinsic+json": {
              "type": "dataframe",
              "variable_name": "recommendations",
              "summary": "{\n  \"name\": \"recommendations\",\n  \"rows\": 8,\n  \"fields\": [\n    {\n      \"column\": \"ISBN\",\n      \"properties\": {\n        \"dtype\": \"string\",\n        \"num_unique_values\": 8,\n        \"samples\": [\n          \"0743454529\",\n          \"0836213319\",\n          \"0811824829\"\n        ],\n        \"semantic_type\": \"\",\n        \"description\": \"\"\n      }\n    },\n    {\n      \"column\": \"Book-Title\",\n      \"properties\": {\n        \"dtype\": \"string\",\n        \"num_unique_values\": 8,\n        \"samples\": [\n          \"My Sister's Keeper : A Novel (Picoult, Jodi)\",\n          \"Dilbert: A Book of Postcards\",\n          \"52 Deck Series: 52 Ways to Celebrate Friendship\"\n        ],\n        \"semantic_type\": \"\",\n        \"description\": \"\"\n      }\n    },\n    {\n      \"column\": \"Book-Author\",\n      \"properties\": {\n        \"dtype\": \"string\",\n        \"num_unique_values\": 8,\n        \"samples\": [\n          \"Jodi Picoult\",\n          \"Scott Adams\",\n          \"Lynn Gordon\"\n        ],\n        \"semantic_type\": \"\",\n        \"description\": \"\"\n      }\n    },\n    {\n      \"column\": \"Estimated Rating\",\n      \"properties\": {\n        \"dtype\": \"number\",\n        \"std\": 0.07337884659259039,\n        \"min\": 9.549682913411543,\n        \"max\": 9.766852050664514,\n        \"num_unique_values\": 8,\n        \"samples\": [\n          9.746502497804537,\n          9.652009144505902,\n          9.766852050664514\n        ],\n        \"semantic_type\": \"\",\n        \"description\": \"\"\n      }\n    }\n  ]\n}"
            }
          },
          "metadata": {}
        }
      ]
    },
    {
      "cell_type": "markdown",
      "source": [
        "Insight: Pengguna dengan User-ID 276772 telah memberikan rating pada tiga buku dengan skor tinggi, menunjukkan preferensi yang kuat terhadap genre atau penulis tertentu. Rekomendasi yang dihasilkan oleh model SVD menyajikan daftar buku dengan prediksi rating tinggi, yang meliputi karya populer dan penulis terkenal seperti J.K. Rowling, Dan Brown, J.R.R. Tolkien, dan Stephen King. Hal ini menunjukkan bahwa model berhasil menangkap preferensi pengguna dan menyarankan buku yang relevan dan berkualitas tinggi sesuai minat mereka."
      ],
      "metadata": {
        "id": "7nv_vJ1M-Myz"
      }
    },
    {
      "cell_type": "markdown",
      "source": [
        "## Evaluasi Model dengan RMSE"
      ],
      "metadata": {
        "id": "mS6NxSYjqB8k"
      }
    },
    {
      "cell_type": "code",
      "source": [
        "predictions = model.test(testset)\n",
        "rmse = accuracy.rmse(predictions)"
      ],
      "metadata": {
        "colab": {
          "base_uri": "https://localhost:8080/"
        },
        "id": "lK4kZWLQlOdV",
        "outputId": "e60aaef4-9120-416a-f6e6-f86978ec98f7"
      },
      "execution_count": null,
      "outputs": [
        {
          "output_type": "stream",
          "name": "stdout",
          "text": [
            "RMSE: 1.6401\n"
          ]
        }
      ]
    },
    {
      "cell_type": "markdown",
      "source": [
        "Insight: Hasil evaluasi model dengan RMSE sebesar 1.6401 menunjukkan bahwa model memiliki tingkat kesalahan yang tergolong moderat dan dapat diterima mengingat kompleksitas dan karakteristik dataset yang sangat beragam. Preferensi pengguna yang beragam dan distribusi rating yang tidak merata, termasuk banyaknya rating nol, menyulitkan model dalam memprediksi dengan presisi tinggi. Selain itu, model hanya mengandalkan data rating tanpa fitur pendukung seperti genre atau demografi pengguna, sehingga keterbatasan informasi ini juga memengaruhi akurasi prediksi. Kebisingan dan inkonsistensi dalam dataset yang besar turut menjadi faktor yang menyumbang tingginya nilai error"
      ],
      "metadata": {
        "id": "stuzn9weBSsj"
      }
    }
  ]
}